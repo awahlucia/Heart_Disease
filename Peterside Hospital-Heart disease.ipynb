{
 "cells": [
  {
   "cell_type": "code",
   "execution_count": 5,
   "id": "1bfe1b40-9d54-4cc3-91d9-bc63180b946d",
   "metadata": {},
   "outputs": [
    {
     "name": "stdout",
     "output_type": "stream",
     "text": [
      "Requirement already satisfied: xgboost in c:\\users\\ubahl\\anaconda3\\lib\\site-packages (2.1.1)\n",
      "Requirement already satisfied: numpy in c:\\users\\ubahl\\anaconda3\\lib\\site-packages (from xgboost) (1.26.4)\n",
      "Requirement already satisfied: scipy in c:\\users\\ubahl\\anaconda3\\lib\\site-packages (from xgboost) (1.11.4)\n"
     ]
    }
   ],
   "source": [
    "# import important libraries\n",
    "\n",
    "# Used for data analysis\n",
    "import pandas as pd\n",
    "import numpy as np\n",
    "\n",
    "# used for data visualization\n",
    "import seaborn as sns    # For loading the dataset\n",
    "import matplotlib.pyplot as plt\n",
    "\n",
    "# for data pre-processing\n",
    "from sklearn.model_selection import train_test_split\n",
    "from sklearn.preprocessing import MinMaxScaler\n",
    "\n",
    "# classifiers libraries\n",
    "from sklearn.linear_model import SGDClassifier\n",
    "from sklearn.neighbors import KNeighborsClassifier\n",
    "from sklearn.ensemble import RandomForestClassifier\n",
    "from sklearn.linear_model import LogisticRegression\n",
    "\n",
    "!pip install xgboost\n",
    "from xgboost import XGBClassifier\n",
    "from sklearn.svm import LinearSVC, SVC\n",
    "from sklearn.naive_bayes import GaussianNB\n",
    "from sklearn.svm import SVC\n",
    "from sklearn.tree import DecisionTreeClassifier\n",
    "\n",
    "# Evaluation Metrics\n",
    "from sklearn.metrics import accuracy_score, precision_score, recall_score, f1_score, roc_auc_score\n",
    "from sklearn.metrics import confusion_matrix\n",
    "\n",
    "import warnings\n",
    "warnings.filterwarnings(\"ignore\")"
   ]
  },
  {
   "cell_type": "code",
   "execution_count": 9,
   "id": "2bb1c811-24e6-4cfc-93bb-0ff28e7a458f",
   "metadata": {},
   "outputs": [],
   "source": [
    "# Load dataset\n",
    "\n",
    "df = pd.read_csv(r\"C:\\Users\\ubahl\\OneDrive\\Desktop\\heart - heart.csv\")"
   ]
  },
  {
   "cell_type": "code",
   "execution_count": 10,
   "id": "7fdb4ada-fbb7-4de3-8357-5c40fab82a71",
   "metadata": {},
   "outputs": [
    {
     "data": {
      "text/html": [
       "<div>\n",
       "<style scoped>\n",
       "    .dataframe tbody tr th:only-of-type {\n",
       "        vertical-align: middle;\n",
       "    }\n",
       "\n",
       "    .dataframe tbody tr th {\n",
       "        vertical-align: top;\n",
       "    }\n",
       "\n",
       "    .dataframe thead th {\n",
       "        text-align: right;\n",
       "    }\n",
       "</style>\n",
       "<table border=\"1\" class=\"dataframe\">\n",
       "  <thead>\n",
       "    <tr style=\"text-align: right;\">\n",
       "      <th></th>\n",
       "      <th>age</th>\n",
       "      <th>sex</th>\n",
       "      <th>cp</th>\n",
       "      <th>trestbps</th>\n",
       "      <th>chol</th>\n",
       "      <th>fbs</th>\n",
       "      <th>restecg</th>\n",
       "      <th>thalach</th>\n",
       "      <th>exang</th>\n",
       "      <th>oldpeak</th>\n",
       "      <th>slope</th>\n",
       "      <th>ca</th>\n",
       "      <th>thal</th>\n",
       "      <th>target</th>\n",
       "    </tr>\n",
       "  </thead>\n",
       "  <tbody>\n",
       "    <tr>\n",
       "      <th>0</th>\n",
       "      <td>63</td>\n",
       "      <td>1</td>\n",
       "      <td>3</td>\n",
       "      <td>145</td>\n",
       "      <td>233</td>\n",
       "      <td>1</td>\n",
       "      <td>0</td>\n",
       "      <td>150</td>\n",
       "      <td>0</td>\n",
       "      <td>2.3</td>\n",
       "      <td>0</td>\n",
       "      <td>0</td>\n",
       "      <td>1</td>\n",
       "      <td>1</td>\n",
       "    </tr>\n",
       "    <tr>\n",
       "      <th>1</th>\n",
       "      <td>37</td>\n",
       "      <td>1</td>\n",
       "      <td>2</td>\n",
       "      <td>130</td>\n",
       "      <td>250</td>\n",
       "      <td>0</td>\n",
       "      <td>1</td>\n",
       "      <td>187</td>\n",
       "      <td>0</td>\n",
       "      <td>3.5</td>\n",
       "      <td>0</td>\n",
       "      <td>0</td>\n",
       "      <td>2</td>\n",
       "      <td>1</td>\n",
       "    </tr>\n",
       "    <tr>\n",
       "      <th>2</th>\n",
       "      <td>41</td>\n",
       "      <td>0</td>\n",
       "      <td>1</td>\n",
       "      <td>130</td>\n",
       "      <td>204</td>\n",
       "      <td>0</td>\n",
       "      <td>0</td>\n",
       "      <td>172</td>\n",
       "      <td>0</td>\n",
       "      <td>1.4</td>\n",
       "      <td>2</td>\n",
       "      <td>0</td>\n",
       "      <td>2</td>\n",
       "      <td>1</td>\n",
       "    </tr>\n",
       "    <tr>\n",
       "      <th>3</th>\n",
       "      <td>56</td>\n",
       "      <td>1</td>\n",
       "      <td>1</td>\n",
       "      <td>120</td>\n",
       "      <td>236</td>\n",
       "      <td>0</td>\n",
       "      <td>1</td>\n",
       "      <td>178</td>\n",
       "      <td>0</td>\n",
       "      <td>0.8</td>\n",
       "      <td>2</td>\n",
       "      <td>0</td>\n",
       "      <td>2</td>\n",
       "      <td>1</td>\n",
       "    </tr>\n",
       "    <tr>\n",
       "      <th>4</th>\n",
       "      <td>57</td>\n",
       "      <td>0</td>\n",
       "      <td>0</td>\n",
       "      <td>120</td>\n",
       "      <td>354</td>\n",
       "      <td>0</td>\n",
       "      <td>1</td>\n",
       "      <td>163</td>\n",
       "      <td>1</td>\n",
       "      <td>0.6</td>\n",
       "      <td>2</td>\n",
       "      <td>0</td>\n",
       "      <td>2</td>\n",
       "      <td>1</td>\n",
       "    </tr>\n",
       "  </tbody>\n",
       "</table>\n",
       "</div>"
      ],
      "text/plain": [
       "   age  sex  cp  trestbps  chol  fbs  restecg  thalach  exang  oldpeak  slope  \\\n",
       "0   63    1   3       145   233    1        0      150      0      2.3      0   \n",
       "1   37    1   2       130   250    0        1      187      0      3.5      0   \n",
       "2   41    0   1       130   204    0        0      172      0      1.4      2   \n",
       "3   56    1   1       120   236    0        1      178      0      0.8      2   \n",
       "4   57    0   0       120   354    0        1      163      1      0.6      2   \n",
       "\n",
       "   ca  thal  target  \n",
       "0   0     1       1  \n",
       "1   0     2       1  \n",
       "2   0     2       1  \n",
       "3   0     2       1  \n",
       "4   0     2       1  "
      ]
     },
     "execution_count": 10,
     "metadata": {},
     "output_type": "execute_result"
    }
   ],
   "source": [
    "df.head()"
   ]
  },
  {
   "cell_type": "code",
   "execution_count": 11,
   "id": "a99f8620-6de5-4e1b-8ebe-0277393ad918",
   "metadata": {},
   "outputs": [
    {
     "data": {
      "text/html": [
       "<div>\n",
       "<style scoped>\n",
       "    .dataframe tbody tr th:only-of-type {\n",
       "        vertical-align: middle;\n",
       "    }\n",
       "\n",
       "    .dataframe tbody tr th {\n",
       "        vertical-align: top;\n",
       "    }\n",
       "\n",
       "    .dataframe thead th {\n",
       "        text-align: right;\n",
       "    }\n",
       "</style>\n",
       "<table border=\"1\" class=\"dataframe\">\n",
       "  <thead>\n",
       "    <tr style=\"text-align: right;\">\n",
       "      <th></th>\n",
       "      <th>age</th>\n",
       "      <th>sex</th>\n",
       "      <th>cp</th>\n",
       "      <th>trestbps</th>\n",
       "      <th>chol</th>\n",
       "      <th>fbs</th>\n",
       "      <th>restecg</th>\n",
       "      <th>thalach</th>\n",
       "      <th>exang</th>\n",
       "      <th>oldpeak</th>\n",
       "      <th>slope</th>\n",
       "      <th>ca</th>\n",
       "      <th>thal</th>\n",
       "      <th>target</th>\n",
       "    </tr>\n",
       "  </thead>\n",
       "  <tbody>\n",
       "    <tr>\n",
       "      <th>298</th>\n",
       "      <td>57</td>\n",
       "      <td>0</td>\n",
       "      <td>0</td>\n",
       "      <td>140</td>\n",
       "      <td>241</td>\n",
       "      <td>0</td>\n",
       "      <td>1</td>\n",
       "      <td>123</td>\n",
       "      <td>1</td>\n",
       "      <td>0.2</td>\n",
       "      <td>1</td>\n",
       "      <td>0</td>\n",
       "      <td>3</td>\n",
       "      <td>0</td>\n",
       "    </tr>\n",
       "    <tr>\n",
       "      <th>299</th>\n",
       "      <td>45</td>\n",
       "      <td>1</td>\n",
       "      <td>3</td>\n",
       "      <td>110</td>\n",
       "      <td>264</td>\n",
       "      <td>0</td>\n",
       "      <td>1</td>\n",
       "      <td>132</td>\n",
       "      <td>0</td>\n",
       "      <td>1.2</td>\n",
       "      <td>1</td>\n",
       "      <td>0</td>\n",
       "      <td>3</td>\n",
       "      <td>0</td>\n",
       "    </tr>\n",
       "    <tr>\n",
       "      <th>300</th>\n",
       "      <td>68</td>\n",
       "      <td>1</td>\n",
       "      <td>0</td>\n",
       "      <td>144</td>\n",
       "      <td>193</td>\n",
       "      <td>1</td>\n",
       "      <td>1</td>\n",
       "      <td>141</td>\n",
       "      <td>0</td>\n",
       "      <td>3.4</td>\n",
       "      <td>1</td>\n",
       "      <td>2</td>\n",
       "      <td>3</td>\n",
       "      <td>0</td>\n",
       "    </tr>\n",
       "    <tr>\n",
       "      <th>301</th>\n",
       "      <td>57</td>\n",
       "      <td>1</td>\n",
       "      <td>0</td>\n",
       "      <td>130</td>\n",
       "      <td>131</td>\n",
       "      <td>0</td>\n",
       "      <td>1</td>\n",
       "      <td>115</td>\n",
       "      <td>1</td>\n",
       "      <td>1.2</td>\n",
       "      <td>1</td>\n",
       "      <td>1</td>\n",
       "      <td>3</td>\n",
       "      <td>0</td>\n",
       "    </tr>\n",
       "    <tr>\n",
       "      <th>302</th>\n",
       "      <td>57</td>\n",
       "      <td>0</td>\n",
       "      <td>1</td>\n",
       "      <td>130</td>\n",
       "      <td>236</td>\n",
       "      <td>0</td>\n",
       "      <td>0</td>\n",
       "      <td>174</td>\n",
       "      <td>0</td>\n",
       "      <td>0.0</td>\n",
       "      <td>1</td>\n",
       "      <td>1</td>\n",
       "      <td>2</td>\n",
       "      <td>0</td>\n",
       "    </tr>\n",
       "  </tbody>\n",
       "</table>\n",
       "</div>"
      ],
      "text/plain": [
       "     age  sex  cp  trestbps  chol  fbs  restecg  thalach  exang  oldpeak  \\\n",
       "298   57    0   0       140   241    0        1      123      1      0.2   \n",
       "299   45    1   3       110   264    0        1      132      0      1.2   \n",
       "300   68    1   0       144   193    1        1      141      0      3.4   \n",
       "301   57    1   0       130   131    0        1      115      1      1.2   \n",
       "302   57    0   1       130   236    0        0      174      0      0.0   \n",
       "\n",
       "     slope  ca  thal  target  \n",
       "298      1   0     3       0  \n",
       "299      1   0     3       0  \n",
       "300      1   2     3       0  \n",
       "301      1   1     3       0  \n",
       "302      1   1     2       0  "
      ]
     },
     "execution_count": 11,
     "metadata": {},
     "output_type": "execute_result"
    }
   ],
   "source": [
    "df.tail()"
   ]
  },
  {
   "cell_type": "code",
   "execution_count": 13,
   "id": "69a3be46-f731-4904-bcdb-26336b589830",
   "metadata": {},
   "outputs": [
    {
     "name": "stdout",
     "output_type": "stream",
     "text": [
      "<class 'pandas.core.frame.DataFrame'>\n",
      "RangeIndex: 303 entries, 0 to 302\n",
      "Data columns (total 14 columns):\n",
      " #   Column    Non-Null Count  Dtype  \n",
      "---  ------    --------------  -----  \n",
      " 0   age       303 non-null    int64  \n",
      " 1   sex       303 non-null    int64  \n",
      " 2   cp        303 non-null    int64  \n",
      " 3   trestbps  303 non-null    int64  \n",
      " 4   chol      303 non-null    int64  \n",
      " 5   fbs       303 non-null    int64  \n",
      " 6   restecg   303 non-null    int64  \n",
      " 7   thalach   303 non-null    int64  \n",
      " 8   exang     303 non-null    int64  \n",
      " 9   oldpeak   303 non-null    float64\n",
      " 10  slope     303 non-null    int64  \n",
      " 11  ca        303 non-null    int64  \n",
      " 12  thal      303 non-null    int64  \n",
      " 13  target    303 non-null    int64  \n",
      "dtypes: float64(1), int64(13)\n",
      "memory usage: 33.3 KB\n"
     ]
    }
   ],
   "source": [
    "# data verification, data type, number of features, rows, missing data etc\n",
    "\n",
    "df.info()"
   ]
  },
  {
   "cell_type": "code",
   "execution_count": 14,
   "id": "3bf79022-4e28-4caf-89f7-dbcdd555bf9f",
   "metadata": {},
   "outputs": [
    {
     "data": {
      "text/html": [
       "<div>\n",
       "<style scoped>\n",
       "    .dataframe tbody tr th:only-of-type {\n",
       "        vertical-align: middle;\n",
       "    }\n",
       "\n",
       "    .dataframe tbody tr th {\n",
       "        vertical-align: top;\n",
       "    }\n",
       "\n",
       "    .dataframe thead th {\n",
       "        text-align: right;\n",
       "    }\n",
       "</style>\n",
       "<table border=\"1\" class=\"dataframe\">\n",
       "  <thead>\n",
       "    <tr style=\"text-align: right;\">\n",
       "      <th></th>\n",
       "      <th>age</th>\n",
       "      <th>sex</th>\n",
       "      <th>cp</th>\n",
       "      <th>trestbps</th>\n",
       "      <th>chol</th>\n",
       "      <th>fbs</th>\n",
       "      <th>restecg</th>\n",
       "      <th>thalach</th>\n",
       "      <th>exang</th>\n",
       "      <th>oldpeak</th>\n",
       "      <th>slope</th>\n",
       "      <th>ca</th>\n",
       "      <th>thal</th>\n",
       "      <th>target</th>\n",
       "    </tr>\n",
       "  </thead>\n",
       "  <tbody>\n",
       "    <tr>\n",
       "      <th>count</th>\n",
       "      <td>303.000000</td>\n",
       "      <td>303.000000</td>\n",
       "      <td>303.000000</td>\n",
       "      <td>303.000000</td>\n",
       "      <td>303.000000</td>\n",
       "      <td>303.000000</td>\n",
       "      <td>303.000000</td>\n",
       "      <td>303.000000</td>\n",
       "      <td>303.000000</td>\n",
       "      <td>303.000000</td>\n",
       "      <td>303.000000</td>\n",
       "      <td>303.000000</td>\n",
       "      <td>303.000000</td>\n",
       "      <td>303.000000</td>\n",
       "    </tr>\n",
       "    <tr>\n",
       "      <th>mean</th>\n",
       "      <td>54.366337</td>\n",
       "      <td>0.683168</td>\n",
       "      <td>0.966997</td>\n",
       "      <td>131.623762</td>\n",
       "      <td>246.264026</td>\n",
       "      <td>0.148515</td>\n",
       "      <td>0.528053</td>\n",
       "      <td>149.646865</td>\n",
       "      <td>0.326733</td>\n",
       "      <td>1.039604</td>\n",
       "      <td>1.399340</td>\n",
       "      <td>0.729373</td>\n",
       "      <td>2.313531</td>\n",
       "      <td>0.544554</td>\n",
       "    </tr>\n",
       "    <tr>\n",
       "      <th>std</th>\n",
       "      <td>9.082101</td>\n",
       "      <td>0.466011</td>\n",
       "      <td>1.032052</td>\n",
       "      <td>17.538143</td>\n",
       "      <td>51.830751</td>\n",
       "      <td>0.356198</td>\n",
       "      <td>0.525860</td>\n",
       "      <td>22.905161</td>\n",
       "      <td>0.469794</td>\n",
       "      <td>1.161075</td>\n",
       "      <td>0.616226</td>\n",
       "      <td>1.022606</td>\n",
       "      <td>0.612277</td>\n",
       "      <td>0.498835</td>\n",
       "    </tr>\n",
       "    <tr>\n",
       "      <th>min</th>\n",
       "      <td>29.000000</td>\n",
       "      <td>0.000000</td>\n",
       "      <td>0.000000</td>\n",
       "      <td>94.000000</td>\n",
       "      <td>126.000000</td>\n",
       "      <td>0.000000</td>\n",
       "      <td>0.000000</td>\n",
       "      <td>71.000000</td>\n",
       "      <td>0.000000</td>\n",
       "      <td>0.000000</td>\n",
       "      <td>0.000000</td>\n",
       "      <td>0.000000</td>\n",
       "      <td>0.000000</td>\n",
       "      <td>0.000000</td>\n",
       "    </tr>\n",
       "    <tr>\n",
       "      <th>25%</th>\n",
       "      <td>47.500000</td>\n",
       "      <td>0.000000</td>\n",
       "      <td>0.000000</td>\n",
       "      <td>120.000000</td>\n",
       "      <td>211.000000</td>\n",
       "      <td>0.000000</td>\n",
       "      <td>0.000000</td>\n",
       "      <td>133.500000</td>\n",
       "      <td>0.000000</td>\n",
       "      <td>0.000000</td>\n",
       "      <td>1.000000</td>\n",
       "      <td>0.000000</td>\n",
       "      <td>2.000000</td>\n",
       "      <td>0.000000</td>\n",
       "    </tr>\n",
       "    <tr>\n",
       "      <th>50%</th>\n",
       "      <td>55.000000</td>\n",
       "      <td>1.000000</td>\n",
       "      <td>1.000000</td>\n",
       "      <td>130.000000</td>\n",
       "      <td>240.000000</td>\n",
       "      <td>0.000000</td>\n",
       "      <td>1.000000</td>\n",
       "      <td>153.000000</td>\n",
       "      <td>0.000000</td>\n",
       "      <td>0.800000</td>\n",
       "      <td>1.000000</td>\n",
       "      <td>0.000000</td>\n",
       "      <td>2.000000</td>\n",
       "      <td>1.000000</td>\n",
       "    </tr>\n",
       "    <tr>\n",
       "      <th>75%</th>\n",
       "      <td>61.000000</td>\n",
       "      <td>1.000000</td>\n",
       "      <td>2.000000</td>\n",
       "      <td>140.000000</td>\n",
       "      <td>274.500000</td>\n",
       "      <td>0.000000</td>\n",
       "      <td>1.000000</td>\n",
       "      <td>166.000000</td>\n",
       "      <td>1.000000</td>\n",
       "      <td>1.600000</td>\n",
       "      <td>2.000000</td>\n",
       "      <td>1.000000</td>\n",
       "      <td>3.000000</td>\n",
       "      <td>1.000000</td>\n",
       "    </tr>\n",
       "    <tr>\n",
       "      <th>max</th>\n",
       "      <td>77.000000</td>\n",
       "      <td>1.000000</td>\n",
       "      <td>3.000000</td>\n",
       "      <td>200.000000</td>\n",
       "      <td>564.000000</td>\n",
       "      <td>1.000000</td>\n",
       "      <td>2.000000</td>\n",
       "      <td>202.000000</td>\n",
       "      <td>1.000000</td>\n",
       "      <td>6.200000</td>\n",
       "      <td>2.000000</td>\n",
       "      <td>4.000000</td>\n",
       "      <td>3.000000</td>\n",
       "      <td>1.000000</td>\n",
       "    </tr>\n",
       "  </tbody>\n",
       "</table>\n",
       "</div>"
      ],
      "text/plain": [
       "              age         sex          cp    trestbps        chol         fbs  \\\n",
       "count  303.000000  303.000000  303.000000  303.000000  303.000000  303.000000   \n",
       "mean    54.366337    0.683168    0.966997  131.623762  246.264026    0.148515   \n",
       "std      9.082101    0.466011    1.032052   17.538143   51.830751    0.356198   \n",
       "min     29.000000    0.000000    0.000000   94.000000  126.000000    0.000000   \n",
       "25%     47.500000    0.000000    0.000000  120.000000  211.000000    0.000000   \n",
       "50%     55.000000    1.000000    1.000000  130.000000  240.000000    0.000000   \n",
       "75%     61.000000    1.000000    2.000000  140.000000  274.500000    0.000000   \n",
       "max     77.000000    1.000000    3.000000  200.000000  564.000000    1.000000   \n",
       "\n",
       "          restecg     thalach       exang     oldpeak       slope          ca  \\\n",
       "count  303.000000  303.000000  303.000000  303.000000  303.000000  303.000000   \n",
       "mean     0.528053  149.646865    0.326733    1.039604    1.399340    0.729373   \n",
       "std      0.525860   22.905161    0.469794    1.161075    0.616226    1.022606   \n",
       "min      0.000000   71.000000    0.000000    0.000000    0.000000    0.000000   \n",
       "25%      0.000000  133.500000    0.000000    0.000000    1.000000    0.000000   \n",
       "50%      1.000000  153.000000    0.000000    0.800000    1.000000    0.000000   \n",
       "75%      1.000000  166.000000    1.000000    1.600000    2.000000    1.000000   \n",
       "max      2.000000  202.000000    1.000000    6.200000    2.000000    4.000000   \n",
       "\n",
       "             thal      target  \n",
       "count  303.000000  303.000000  \n",
       "mean     2.313531    0.544554  \n",
       "std      0.612277    0.498835  \n",
       "min      0.000000    0.000000  \n",
       "25%      2.000000    0.000000  \n",
       "50%      2.000000    1.000000  \n",
       "75%      3.000000    1.000000  \n",
       "max      3.000000    1.000000  "
      ]
     },
     "execution_count": 14,
     "metadata": {},
     "output_type": "execute_result"
    }
   ],
   "source": [
    "df.describe()"
   ]
  },
  {
   "cell_type": "code",
   "execution_count": null,
   "id": "b87d73f7-adeb-4b72-9bb2-2cdc99be912a",
   "metadata": {},
   "outputs": [],
   "source": []
  },
  {
   "cell_type": "code",
   "execution_count": null,
   "id": "c226ac19-19a1-41f9-967d-08df63e80fcd",
   "metadata": {},
   "outputs": [],
   "source": []
  },
  {
   "cell_type": "code",
   "execution_count": 15,
   "id": "d304572a-8421-4322-a784-039231dc7b43",
   "metadata": {},
   "outputs": [
    {
     "data": {
      "text/plain": [
       "age         0\n",
       "sex         0\n",
       "cp          0\n",
       "trestbps    0\n",
       "chol        0\n",
       "fbs         0\n",
       "restecg     0\n",
       "thalach     0\n",
       "exang       0\n",
       "oldpeak     0\n",
       "slope       0\n",
       "ca          0\n",
       "thal        0\n",
       "target      0\n",
       "dtype: int64"
      ]
     },
     "execution_count": 15,
     "metadata": {},
     "output_type": "execute_result"
    }
   ],
   "source": [
    "df.isnull().sum()"
   ]
  },
  {
   "cell_type": "code",
   "execution_count": 17,
   "id": "e7d0f4ba-9b67-4d75-b70a-44f46a23524b",
   "metadata": {},
   "outputs": [
    {
     "data": {
      "text/plain": [
       "<Axes: >"
      ]
     },
     "execution_count": 17,
     "metadata": {},
     "output_type": "execute_result"
    },
    {
     "data": {
      "image/png": "[encoded data removed]",
      "text/plain": [
       "<Figure size 1000x400 with 2 Axes>"
      ]
     },
     "metadata": {},
     "output_type": "display_data"
    }
   ],
   "source": [
    "# To visualize the missing data\n",
    "\n",
    "plt.figure(figsize = (10,4))\n",
    "sns.heatmap(df.isnull(), cbar=True, cmap=\"Blues_r\")\n"
   ]
  },
  {
   "cell_type": "code",
   "execution_count": null,
   "id": "19f97661-0304-4668-8324-a42c77a127ea",
   "metadata": {},
   "outputs": [],
   "source": [
    "# Narration: This visualization confirms that there are no missing values in the dataset.\n",
    "# The consistent color throughout the heatmap means that every entry in the dataset is filled with valid data."
   ]
  },
  {
   "cell_type": "code",
   "execution_count": null,
   "id": "d31bd9ad-88cf-4437-b996-d05e0a27d3d0",
   "metadata": {},
   "outputs": [],
   "source": []
  },
  {
   "cell_type": "markdown",
   "id": "0ff28775-0c53-45a8-88b7-99bfce2633f3",
   "metadata": {},
   "source": [
    "# Exploratory Data Analysis"
   ]
  },
  {
   "cell_type": "markdown",
   "id": "ca66845d-bb6a-4a33-900c-0cafaf0751f2",
   "metadata": {},
   "source": [
    "## Univariate Analysis\n"
   ]
  },
  {
   "cell_type": "code",
   "execution_count": 18,
   "id": "07da5d58-a2aa-4848-8d6d-9d29d4c804b1",
   "metadata": {},
   "outputs": [
    {
     "data": {
      "text/plain": [
       "Index(['age', 'sex', 'cp', 'trestbps', 'chol', 'fbs', 'restecg', 'thalach',\n",
       "       'exang', 'oldpeak', 'slope', 'ca', 'thal', 'target'],\n",
       "      dtype='object')"
      ]
     },
     "execution_count": 18,
     "metadata": {},
     "output_type": "execute_result"
    }
   ],
   "source": [
    "df.columns"
   ]
  },
  {
   "cell_type": "code",
   "execution_count": 21,
   "id": "2dd8a68d-a168-483b-af43-2c7dc39a4717",
   "metadata": {},
   "outputs": [
    {
     "data": {
      "image/png": "[encoded data removed]",
      "text/plain": [
       "<Figure size 640x480 with 1 Axes>"
      ]
     },
     "metadata": {},
     "output_type": "display_data"
    }
   ],
   "source": [
    "# check for ouliers\n",
    "sns.boxplot(x=df[\"thal\"]);"
   ]
  },
  {
   "cell_type": "code",
   "execution_count": null,
   "id": "62cc96ca-6244-4e6d-8023-fc02760e63b5",
   "metadata": {},
   "outputs": [],
   "source": [
    "# Narration:  The presence of one point outside the whiskers indicates that there's one potential outlier in the thal column. \n",
    "# This value could be unusually high or low compared to the rest of the dataset."
   ]
  },
  {
   "cell_type": "code",
   "execution_count": null,
   "id": "6c6bd113-f6c0-4271-911e-ccabd8ef3d1b",
   "metadata": {},
   "outputs": [],
   "source": []
  },
  {
   "cell_type": "code",
   "execution_count": 22,
   "id": "d6dd687f-a147-4729-be48-f53ec2a944c7",
   "metadata": {},
   "outputs": [
    {
     "data": {
      "image/png": "[encoded data removed]",
      "text/plain": [
       "<Figure size 640x480 with 1 Axes>"
      ]
     },
     "metadata": {},
     "output_type": "display_data"
    }
   ],
   "source": [
    "sns.boxplot(x=df[\"chol\"]);"
   ]
  },
  {
   "cell_type": "code",
   "execution_count": null,
   "id": "9b4c1c90-4b83-4d6a-9ef2-f80441c57b98",
   "metadata": {},
   "outputs": [],
   "source": [
    "# Narration: The presence of four points outside the whiskers in the boxplot for the chol column indicates four potential outliers. \n",
    "# These values are significantly higher or lower than the majority of the dataset."
   ]
  },
  {
   "cell_type": "code",
   "execution_count": null,
   "id": "0901cc7c-8bbf-489a-aaa1-1ae2355632e4",
   "metadata": {},
   "outputs": [],
   "source": []
  },
  {
   "cell_type": "code",
   "execution_count": 23,
   "id": "fab8b59a-4b96-4e17-82ab-78334699e856",
   "metadata": {},
   "outputs": [
    {
     "data": {
      "image/png": "[encoded data removed]",
      "text/plain": [
       "<Figure size 640x480 with 1 Axes>"
      ]
     },
     "metadata": {},
     "output_type": "display_data"
    }
   ],
   "source": [
    "sns.boxplot(x=df[\"trestbps\"]);"
   ]
  },
  {
   "cell_type": "code",
   "execution_count": null,
   "id": "ecce982d-dd52-49a5-8357-cafb06b15787",
   "metadata": {},
   "outputs": [],
   "source": [
    "# Narration: The presence of four points outside the whiskers in the boxplot for the trestbps column indicates six potential outliers. \n",
    "# These values are significantly higher or lower than the majority of the dataset."
   ]
  },
  {
   "cell_type": "code",
   "execution_count": null,
   "id": "ef577911-6e2e-46f0-a7a0-68385ed8ae24",
   "metadata": {},
   "outputs": [],
   "source": []
  },
  {
   "cell_type": "code",
   "execution_count": 28,
   "id": "63d21225-26b6-4023-999f-50fea68ed41e",
   "metadata": {},
   "outputs": [
    {
     "data": {
      "image/png": "[encoded data removed]",
      "text/plain": [
       "<Figure size 640x480 with 1 Axes>"
      ]
     },
     "metadata": {},
     "output_type": "display_data"
    }
   ],
   "source": [
    "sns.boxplot(x=df[\"thalach\"]);"
   ]
  },
  {
   "cell_type": "code",
   "execution_count": null,
   "id": "9c4cebd6-119b-408c-88b0-145063f89c21",
   "metadata": {},
   "outputs": [],
   "source": [
    "# Narration: The presence of one point outside the whiskers in the boxplot for the chol column indicates one potential outliers. \n",
    "# These value is significantly higher or lower than the majority of the dataset."
   ]
  },
  {
   "cell_type": "code",
   "execution_count": null,
   "id": "063dbf3f-f6c6-4b67-9a20-11fbcffdd7ae",
   "metadata": {},
   "outputs": [],
   "source": []
  },
  {
   "cell_type": "code",
   "execution_count": 29,
   "id": "cd20940d-dad2-4045-9557-c54421c45c93",
   "metadata": {},
   "outputs": [
    {
     "data": {
      "image/png": "[encoded data removed]",
      "text/plain": [
       "<Figure size 640x480 with 1 Axes>"
      ]
     },
     "metadata": {},
     "output_type": "display_data"
    }
   ],
   "source": [
    "sns.boxplot(x=df[\"slope\"]);"
   ]
  },
  {
   "cell_type": "code",
   "execution_count": null,
   "id": "9390a815-392b-4770-8a4f-1577bc38bb4b",
   "metadata": {},
   "outputs": [],
   "source": []
  },
  {
   "cell_type": "code",
   "execution_count": null,
   "id": "092323d4-c3e6-41e9-ab08-72a1d653cac7",
   "metadata": {},
   "outputs": [],
   "source": []
  },
  {
   "cell_type": "code",
   "execution_count": 34,
   "id": "6f9dce7b-5044-4acb-9530-b45fcdcc7d5c",
   "metadata": {},
   "outputs": [
    {
     "data": {
      "image/png": "[encoded data removed]",
      "text/plain": [
       "<Figure size 1000x600 with 1 Axes>"
      ]
     },
     "metadata": {},
     "output_type": "display_data"
    }
   ],
   "source": [
    "# Data visualization on age bracket\n",
    "#Age_bracket\n",
    "\n",
    "def age_bracket(age):\n",
    "    if age <=35:\n",
    "        return \"Youth(<=35)\"\n",
    "    elif age <= 55:\n",
    "        return \"Adult(<=55)\"\n",
    "    elif age <=65:\n",
    "        return \"Old Adult(<=65)\"\n",
    "    else:\n",
    "        return \"Elderly(>65)\"\n",
    "\n",
    "df[\"age_bracket\"] = df[\"age\"].apply(age_bracket)\n",
    "\n",
    "\n",
    "# Investigating the age group of patients\n",
    "plt.figure(figsize=(10,6))\n",
    "sns.countplot(x=\"age_bracket\", data=df)\n",
    "plt.xlabel(\"Age Group\")\n",
    "plt.ylabel(\"Count of Age Group\")\n",
    "plt.title(\"Total Number of Patients\");"
   ]
  },
  {
   "cell_type": "code",
   "execution_count": null,
   "id": "d216f671-5b28-4ba0-bf0e-fc2e71ba8da1",
   "metadata": {},
   "outputs": [],
   "source": [
    "# Nararation: This visualization aims to show how many patients fall into each age bracket or age group within the dataset.\n",
    "# Bar Heights: The height of each bar indicates the number of patients in that specific age bracket.\n",
    "# Taller bars signify more patients in that age group.\n",
    "# Shorter bars indicate fewer patients in that age bracket.\n",
    "# Here we can see that we have the highest number of patients within the age bracket of 36-55 followed \n",
    "# by 65 with age bracket of 35 and below been the least represented in this dataset."
   ]
  },
  {
   "cell_type": "code",
   "execution_count": null,
   "id": "0408d527-dd74-4bbf-8f72-baa9210c6997",
   "metadata": {},
   "outputs": [],
   "source": []
  },
  {
   "cell_type": "code",
   "execution_count": 41,
   "id": "a20952ba-5146-4d4a-954b-8b64275d52ac",
   "metadata": {},
   "outputs": [
    {
     "data": {
      "image/png": "[encoded data removed]",
      "text/plain": [
       "<Figure size 1000x500 with 1 Axes>"
      ]
     },
     "metadata": {},
     "output_type": "display_data"
    }
   ],
   "source": [
    "# visualizing the sex column\n",
    "\n",
    "def gender(sex):\n",
    "    if sex == 1:\n",
    "        return \"Male\"\n",
    "    else:\n",
    "        return \"Female\"\n",
    "df[\"gender\"] = df[\"sex\"].apply(gender)\n",
    "\n",
    "# investigating the gender of patients\n",
    "\n",
    "plt.figure(figsize=(10,5))\n",
    "sns.countplot(x=\"gender\", data=df)\n",
    "plt.xlabel(\"Gender\")\n",
    "plt.ylabel(\"Count of Patient Gender\")\n",
    "plt.title(\"Total Number of Patients by Gender\");"
   ]
  },
  {
   "cell_type": "code",
   "execution_count": null,
   "id": "a3082526-2e21-4038-8a58-f43619bd9d0f",
   "metadata": {},
   "outputs": [],
   "source": [
    "# Narration: This visualization provides insight into how many males and females are present in the dataset. \n",
    "# the countplot/bar plot above means there are more male patients in the dataset."
   ]
  },
  {
   "cell_type": "code",
   "execution_count": null,
   "id": "80c4c482-7bd9-43e1-8b86-6bc4e91af737",
   "metadata": {},
   "outputs": [],
   "source": []
  },
  {
   "cell_type": "code",
   "execution_count": null,
   "id": "50397f0d-cb2d-40e7-a40f-f8c5b0b5ef25",
   "metadata": {},
   "outputs": [],
   "source": []
  },
  {
   "cell_type": "code",
   "execution_count": 38,
   "id": "405cb461-2bdc-4bdd-99dc-807dd37f9cd1",
   "metadata": {},
   "outputs": [
    {
     "data": {
      "text/html": [
       "<div>\n",
       "<style scoped>\n",
       "    .dataframe tbody tr th:only-of-type {\n",
       "        vertical-align: middle;\n",
       "    }\n",
       "\n",
       "    .dataframe tbody tr th {\n",
       "        vertical-align: top;\n",
       "    }\n",
       "\n",
       "    .dataframe thead th {\n",
       "        text-align: right;\n",
       "    }\n",
       "</style>\n",
       "<table border=\"1\" class=\"dataframe\">\n",
       "  <thead>\n",
       "    <tr style=\"text-align: right;\">\n",
       "      <th></th>\n",
       "      <th>age</th>\n",
       "      <th>sex</th>\n",
       "      <th>cp</th>\n",
       "      <th>trestbps</th>\n",
       "      <th>chol</th>\n",
       "      <th>fbs</th>\n",
       "      <th>restecg</th>\n",
       "      <th>thalach</th>\n",
       "      <th>exang</th>\n",
       "      <th>oldpeak</th>\n",
       "      <th>slope</th>\n",
       "      <th>ca</th>\n",
       "      <th>thal</th>\n",
       "      <th>target</th>\n",
       "      <th>age_bracket</th>\n",
       "      <th>gender</th>\n",
       "    </tr>\n",
       "  </thead>\n",
       "  <tbody>\n",
       "    <tr>\n",
       "      <th>0</th>\n",
       "      <td>63</td>\n",
       "      <td>1</td>\n",
       "      <td>3</td>\n",
       "      <td>145</td>\n",
       "      <td>233</td>\n",
       "      <td>1</td>\n",
       "      <td>0</td>\n",
       "      <td>150</td>\n",
       "      <td>0</td>\n",
       "      <td>2.3</td>\n",
       "      <td>0</td>\n",
       "      <td>0</td>\n",
       "      <td>1</td>\n",
       "      <td>1</td>\n",
       "      <td>Old Adult(&lt;=65)</td>\n",
       "      <td>Male</td>\n",
       "    </tr>\n",
       "    <tr>\n",
       "      <th>1</th>\n",
       "      <td>37</td>\n",
       "      <td>1</td>\n",
       "      <td>2</td>\n",
       "      <td>130</td>\n",
       "      <td>250</td>\n",
       "      <td>0</td>\n",
       "      <td>1</td>\n",
       "      <td>187</td>\n",
       "      <td>0</td>\n",
       "      <td>3.5</td>\n",
       "      <td>0</td>\n",
       "      <td>0</td>\n",
       "      <td>2</td>\n",
       "      <td>1</td>\n",
       "      <td>Adult(&lt;=55)</td>\n",
       "      <td>Male</td>\n",
       "    </tr>\n",
       "    <tr>\n",
       "      <th>2</th>\n",
       "      <td>41</td>\n",
       "      <td>0</td>\n",
       "      <td>1</td>\n",
       "      <td>130</td>\n",
       "      <td>204</td>\n",
       "      <td>0</td>\n",
       "      <td>0</td>\n",
       "      <td>172</td>\n",
       "      <td>0</td>\n",
       "      <td>1.4</td>\n",
       "      <td>2</td>\n",
       "      <td>0</td>\n",
       "      <td>2</td>\n",
       "      <td>1</td>\n",
       "      <td>Adult(&lt;=55)</td>\n",
       "      <td>Female</td>\n",
       "    </tr>\n",
       "    <tr>\n",
       "      <th>3</th>\n",
       "      <td>56</td>\n",
       "      <td>1</td>\n",
       "      <td>1</td>\n",
       "      <td>120</td>\n",
       "      <td>236</td>\n",
       "      <td>0</td>\n",
       "      <td>1</td>\n",
       "      <td>178</td>\n",
       "      <td>0</td>\n",
       "      <td>0.8</td>\n",
       "      <td>2</td>\n",
       "      <td>0</td>\n",
       "      <td>2</td>\n",
       "      <td>1</td>\n",
       "      <td>Old Adult(&lt;=65)</td>\n",
       "      <td>Male</td>\n",
       "    </tr>\n",
       "    <tr>\n",
       "      <th>4</th>\n",
       "      <td>57</td>\n",
       "      <td>0</td>\n",
       "      <td>0</td>\n",
       "      <td>120</td>\n",
       "      <td>354</td>\n",
       "      <td>0</td>\n",
       "      <td>1</td>\n",
       "      <td>163</td>\n",
       "      <td>1</td>\n",
       "      <td>0.6</td>\n",
       "      <td>2</td>\n",
       "      <td>0</td>\n",
       "      <td>2</td>\n",
       "      <td>1</td>\n",
       "      <td>Old Adult(&lt;=65)</td>\n",
       "      <td>Female</td>\n",
       "    </tr>\n",
       "  </tbody>\n",
       "</table>\n",
       "</div>"
      ],
      "text/plain": [
       "   age  sex  cp  trestbps  chol  fbs  restecg  thalach  exang  oldpeak  slope  \\\n",
       "0   63    1   3       145   233    1        0      150      0      2.3      0   \n",
       "1   37    1   2       130   250    0        1      187      0      3.5      0   \n",
       "2   41    0   1       130   204    0        0      172      0      1.4      2   \n",
       "3   56    1   1       120   236    0        1      178      0      0.8      2   \n",
       "4   57    0   0       120   354    0        1      163      1      0.6      2   \n",
       "\n",
       "   ca  thal  target      age_bracket  gender  \n",
       "0   0     1       1  Old Adult(<=65)    Male  \n",
       "1   0     2       1      Adult(<=55)    Male  \n",
       "2   0     2       1      Adult(<=55)  Female  \n",
       "3   0     2       1  Old Adult(<=65)    Male  \n",
       "4   0     2       1  Old Adult(<=65)  Female  "
      ]
     },
     "execution_count": 38,
     "metadata": {},
     "output_type": "execute_result"
    }
   ],
   "source": [
    "df.head()"
   ]
  },
  {
   "cell_type": "code",
   "execution_count": null,
   "id": "720b0570-1cbb-4ef5-bc05-d34e22f4dd2f",
   "metadata": {},
   "outputs": [],
   "source": []
  },
  {
   "cell_type": "code",
   "execution_count": 48,
   "id": "2faccbe8-295c-4d1e-bea1-5d72e3cf8905",
   "metadata": {},
   "outputs": [
    {
     "data": {
      "image/png": "[encoded data removed]",
      "text/plain": [
       "<Figure size 1000x500 with 1 Axes>"
      ]
     },
     "metadata": {},
     "output_type": "display_data"
    }
   ],
   "source": [
    "# Data visualization\n",
    "# chest pain type (1: typical angina, 2: atypical angina, 3: non anginal pain, 4: asyptomatic)\n",
    "\n",
    "def chest_pain(cp):\n",
    "    if cp == 1:\n",
    "        return \"typical angina\"\n",
    "    elif cp == 2:\n",
    "        return \"atypical angina\"\n",
    "    elif cp == 3:\n",
    "        return \"non-anginal pain\"\n",
    "    else:\n",
    "        return \"asyptomatic\"\n",
    "\n",
    "df[\"cp_category\"] = df[\"cp\"].apply(chest_pain)\n",
    "\n",
    "# investigating the gender of patients with chest pain\n",
    "\n",
    "plt.figure(figsize=(10,5))\n",
    "sns.countplot(x=\"cp_cat\", data=df)\n",
    "plt.xlabel(\"Type of Chest Pain\")\n",
    "plt.ylabel(\"Count of Patient Gender\")\n",
    "plt.title(\"Total Number of Patients by chest pain\");"
   ]
  },
  {
   "cell_type": "code",
   "execution_count": null,
   "id": "5f075345-166f-4ca9-9abe-7364f104de41",
   "metadata": {},
   "outputs": [],
   "source": [
    "# Narration: This visualization show how many patients are categorized under each type of chest pain.\n",
    "# from the countplot above, asyptomatic is the most common type of chest pain among the patients in \n",
    "# the dataset followed by atypical angina and having less than 30 patients living without any chest pain."
   ]
  },
  {
   "cell_type": "code",
   "execution_count": null,
   "id": "1129f467-f410-4cf7-add5-29cd091f0642",
   "metadata": {},
   "outputs": [],
   "source": []
  },
  {
   "cell_type": "code",
   "execution_count": 52,
   "id": "ed75f6ec-53e5-49c5-95dc-16cf0758f72b",
   "metadata": {},
   "outputs": [
    {
     "name": "stdout",
     "output_type": "stream",
     "text": [
      "label\n",
      "Yes    165\n",
      "No     138\n",
      "Name: count, dtype: int64\n"
     ]
    },
    {
     "data": {
      "image/png": "[encoded data removed]",
      "text/plain": [
       "<Figure size 1000x500 with 1 Axes>"
      ]
     },
     "metadata": {},
     "output_type": "display_data"
    }
   ],
   "source": [
    "# Data visualization on target\n",
    "# target - have disease or not (1=Yes, 0=No)\n",
    "\n",
    "def label (tg):\n",
    "    if tg == 1:\n",
    "        return \"Yes\"\n",
    "    else:\n",
    "        return \"No\"\n",
    "df[\"label\"] = df[\"target\"].apply(label)\n",
    "\n",
    "# Total number in each category\n",
    "print(df[\"label\"].value_counts())\n",
    "\n",
    "# investigating the gender of patients by chest pain\n",
    "plt.figure(figsize=(10,5))\n",
    "sns.countplot(x=\"label\", data=df)\n",
    "plt.xlabel(\"Target\")\n",
    "plt.ylabel(\"Count of Patient Gender\")\n",
    "plt.title(\"Total Number of Patients by Chest Pain\");"
   ]
  },
  {
   "cell_type": "code",
   "execution_count": null,
   "id": "c8ceaf22-fcc8-4490-bf6e-f5ccec873661",
   "metadata": {},
   "outputs": [],
   "source": [
    "# Narration: The countplot visualizes the distribution of patients across different categories in the label column.\n",
    "# from the bar plot above, we have 165 number of patients with heart disease and 138 patients does not have heart disease."
   ]
  },
  {
   "cell_type": "code",
   "execution_count": null,
   "id": "2cc323b9-aa3c-4454-99a3-b98cf9b5b89c",
   "metadata": {},
   "outputs": [],
   "source": []
  },
  {
   "cell_type": "markdown",
   "id": "2608e180-1a44-4e36-9b91-933bd305cb3b",
   "metadata": {},
   "source": [
    "# Bivariate Analysis"
   ]
  },
  {
   "cell_type": "code",
   "execution_count": null,
   "id": "3c11f11d-7b67-49fd-a6cf-5e650d2f88e5",
   "metadata": {},
   "outputs": [],
   "source": [
    "# Here you are compaaring two columns"
   ]
  },
  {
   "cell_type": "code",
   "execution_count": 53,
   "id": "df14096d-2235-47c2-a916-a10e77537764",
   "metadata": {},
   "outputs": [
    {
     "data": {
      "image/png": "[encoded data removed]",
      "text/plain": [
       "<Figure size 1000x500 with 1 Axes>"
      ]
     },
     "metadata": {},
     "output_type": "display_data"
    }
   ],
   "source": [
    "# Investigating the age group of patients by target column\n",
    "\n",
    "plt.figure(figsize=(10,5))\n",
    "sns.countplot(x=\"age_bracket\", data=df, hue=\"label\")\n",
    "plt.xlabel(\"Age Group\")\n",
    "plt.ylabel(\"Count of Patient Age Group\")\n",
    "plt.title(\"Total Number of Patients\");"
   ]
  },
  {
   "cell_type": "code",
   "execution_count": null,
   "id": "a9d0773e-ee54-49fa-8620-07c5163573da",
   "metadata": {},
   "outputs": [],
   "source": [
    "# Narration: \"The countplot provides a clear visualization of the distribution of patients across various age brackets, \n",
    "# segmented by the target variable label. The plot reveals that: patients within the age bracket of 36-55 mostly have heart disease\n",
    "# while a very low number of patients with the age bracket of 35 and below does not have heart disease."
   ]
  },
  {
   "cell_type": "code",
   "execution_count": null,
   "id": "72b3ba6b-a2c6-4628-8686-65d74517e8e8",
   "metadata": {},
   "outputs": [],
   "source": []
  },
  {
   "cell_type": "code",
   "execution_count": 54,
   "id": "8226f6a6-3d82-4e75-b5ed-a6350d831cd0",
   "metadata": {},
   "outputs": [
    {
     "data": {
      "image/png": "[encoded data removed]",
      "text/plain": [
       "<Figure size 1000x500 with 1 Axes>"
      ]
     },
     "metadata": {},
     "output_type": "display_data"
    }
   ],
   "source": [
    "# Investigating the gender of patients by target column(feature)\n",
    "\n",
    "plt.figure(figsize=(10,5))\n",
    "sns.countplot(x=\"gender\", data=df, hue=\"label\")\n",
    "plt.xlabel(\"Gender\")\n",
    "plt.ylabel(\"Count of Patient Gender\")\n",
    "plt.title(\"Total Number of Patients\");"
   ]
  },
  {
   "cell_type": "code",
   "execution_count": null,
   "id": "86fae7fb-a41b-4e15-8498-d514724ab84b",
   "metadata": {},
   "outputs": [],
   "source": [
    "# Narration: This countplot analyze the distribution of patients based on gender and further break this down by a target column,\n",
    "# this shows that we have more males with heart disease than female. Based on the number of females in the dataset, \n",
    "# it shows that high percentage of the females have heart disease than the percentage of male."
   ]
  },
  {
   "cell_type": "code",
   "execution_count": null,
   "id": "d343351f-3d0a-4b1a-9157-03c88051af63",
   "metadata": {},
   "outputs": [],
   "source": []
  },
  {
   "cell_type": "code",
   "execution_count": 59,
   "id": "60dc21bb-a5d7-4c6d-819f-935ab4e1e2bb",
   "metadata": {},
   "outputs": [
    {
     "data": {
      "image/png": "[encoded data removed]",
      "text/plain": [
       "<Figure size 1000x500 with 1 Axes>"
      ]
     },
     "metadata": {},
     "output_type": "display_data"
    }
   ],
   "source": [
    "# Investigating the chest pain type of patients by target column(feature)\n",
    "\n",
    "plt.figure(figsize=(10,5))\n",
    "sns.countplot(x=\"cp_category\", data=df, hue=\"label\")\n",
    "plt.xlabel(\"Type of Chest Pain\")\n",
    "plt.ylabel(\"Count of Patient Chest Pain Type\")\n",
    "plt.title(\"Total Number of Patients\");"
   ]
  },
  {
   "cell_type": "code",
   "execution_count": null,
   "id": "5e57dcde-f603-4a08-bd90-6ae55b831975",
   "metadata": {},
   "outputs": [],
   "source": [
    "# Narration: This countplot analyze the distribution of chest pain types to the target column. \n",
    "# this plot shows that people living with atypical angina type of chest pain have heart disease compared to other types of chest pain."
   ]
  },
  {
   "cell_type": "code",
   "execution_count": null,
   "id": "5af656a5-0242-412b-864b-45b834de5737",
   "metadata": {},
   "outputs": [],
   "source": []
  },
  {
   "cell_type": "markdown",
   "id": "d0ed2b40-6dff-4bb4-9d3e-3902608bfc9f",
   "metadata": {},
   "source": [
    "## Multivariate Analysis"
   ]
  },
  {
   "cell_type": "code",
   "execution_count": 135,
   "id": "92e0875d-9281-43cd-9774-0c1d10210f02",
   "metadata": {},
   "outputs": [
    {
     "data": {
      "text/plain": [
       "Text(0.5, 1.0, 'Correlation Heatmap')"
      ]
     },
     "execution_count": 135,
     "metadata": {},
     "output_type": "execute_result"
    },
    {
     "data": {
      "image/png": "[encoded data removed]",
      "text/plain": [
       "<Figure size 1000x1000 with 2 Axes>"
      ]
     },
     "metadata": {},
     "output_type": "display_data"
    }
   ],
   "source": [
    "# Here we compare three or more columns/features\n",
    "# Correlation between target column and other variables in the dataset\n",
    "\n",
    "plt.figure(figsize=(10,10))\n",
    "hm = sns.heatmap(df1.corr(), cbar=True, annot=True, square=True, fmt=\".2f\",\n",
    "                 annot_kws={\"size\": 10})\n",
    "plt.title('Correlation Heatmap')"
   ]
  },
  {
   "cell_type": "code",
   "execution_count": null,
   "id": "45a49f1b-3216-401a-a9b6-2ba59e3a9b63",
   "metadata": {},
   "outputs": [],
   "source": []
  },
  {
   "cell_type": "code",
   "execution_count": 134,
   "id": "e1cf0ee7-4df1-410a-b418-cd362cc1528c",
   "metadata": {},
   "outputs": [
    {
     "data": {
      "image/png": "[encoded data removed]",
      "text/plain": [
       "<Figure size 1000x1000 with 2 Axes>"
      ]
     },
     "metadata": {},
     "output_type": "display_data"
    }
   ],
   "source": [
    "\n",
    "plt.figure(figsize=(10, 10))\n",
    "\n",
    "# Create a heatmap\n",
    "\n",
    "# Ensure the DataFrame contains numeric data for correlation computation\n",
    "df = df.apply(pd.to_numeric)\n",
    "\n",
    "hm = sns.heatmap(\n",
    "    df.corr(),                # Correlation matrix\n",
    "    cbar=True,                # Show color bar\n",
    "    annot=True,               # Annotate cells with correlation coefficients\n",
    "    square=True,              # Make the heatmap square-shaped\n",
    "    fmt=\".2f\",               # Format annotation text to 2 decimal places\n",
    "    annot_kws={\"size\": 10}   # Font size for annotations\n",
    ")\n",
    "\n",
    "plt.show()"
   ]
  },
  {
   "cell_type": "code",
   "execution_count": null,
   "id": "9a19c0ea-85e3-49f0-8332-b60c9334e9a0",
   "metadata": {},
   "outputs": [],
   "source": []
  },
  {
   "cell_type": "markdown",
   "id": "57fc1a6f-5a31-45f0-90cf-606e701f5bbe",
   "metadata": {},
   "source": [
    "## Data Pre-Processing/ Feature Engineering"
   ]
  },
  {
   "cell_type": "code",
   "execution_count": 64,
   "id": "eefd02ad-23bf-4f63-9766-9b4f64bdf2f3",
   "metadata": {},
   "outputs": [
    {
     "data": {
      "text/html": [
       "<div>\n",
       "<style scoped>\n",
       "    .dataframe tbody tr th:only-of-type {\n",
       "        vertical-align: middle;\n",
       "    }\n",
       "\n",
       "    .dataframe tbody tr th {\n",
       "        vertical-align: top;\n",
       "    }\n",
       "\n",
       "    .dataframe thead th {\n",
       "        text-align: right;\n",
       "    }\n",
       "</style>\n",
       "<table border=\"1\" class=\"dataframe\">\n",
       "  <thead>\n",
       "    <tr style=\"text-align: right;\">\n",
       "      <th></th>\n",
       "      <th>age</th>\n",
       "      <th>sex</th>\n",
       "      <th>cp</th>\n",
       "      <th>trestbps</th>\n",
       "      <th>chol</th>\n",
       "      <th>fbs</th>\n",
       "      <th>restecg</th>\n",
       "      <th>thalach</th>\n",
       "      <th>exang</th>\n",
       "      <th>oldpeak</th>\n",
       "      <th>slope</th>\n",
       "      <th>ca</th>\n",
       "      <th>thal</th>\n",
       "      <th>target</th>\n",
       "      <th>age_bracket</th>\n",
       "      <th>gender</th>\n",
       "      <th>cp_cat</th>\n",
       "      <th>cp_category</th>\n",
       "      <th>label</th>\n",
       "    </tr>\n",
       "  </thead>\n",
       "  <tbody>\n",
       "    <tr>\n",
       "      <th>0</th>\n",
       "      <td>63</td>\n",
       "      <td>1</td>\n",
       "      <td>3</td>\n",
       "      <td>145</td>\n",
       "      <td>233</td>\n",
       "      <td>1</td>\n",
       "      <td>0</td>\n",
       "      <td>150</td>\n",
       "      <td>0</td>\n",
       "      <td>2.3</td>\n",
       "      <td>0</td>\n",
       "      <td>0</td>\n",
       "      <td>1</td>\n",
       "      <td>1</td>\n",
       "      <td>Old Adult(&lt;=65)</td>\n",
       "      <td>Male</td>\n",
       "      <td>non-anginal pain</td>\n",
       "      <td>non-anginal pain</td>\n",
       "      <td>Yes</td>\n",
       "    </tr>\n",
       "    <tr>\n",
       "      <th>1</th>\n",
       "      <td>37</td>\n",
       "      <td>1</td>\n",
       "      <td>2</td>\n",
       "      <td>130</td>\n",
       "      <td>250</td>\n",
       "      <td>0</td>\n",
       "      <td>1</td>\n",
       "      <td>187</td>\n",
       "      <td>0</td>\n",
       "      <td>3.5</td>\n",
       "      <td>0</td>\n",
       "      <td>0</td>\n",
       "      <td>2</td>\n",
       "      <td>1</td>\n",
       "      <td>Adult(&lt;=55)</td>\n",
       "      <td>Male</td>\n",
       "      <td>atypical angina</td>\n",
       "      <td>atypical angina</td>\n",
       "      <td>Yes</td>\n",
       "    </tr>\n",
       "    <tr>\n",
       "      <th>2</th>\n",
       "      <td>41</td>\n",
       "      <td>0</td>\n",
       "      <td>1</td>\n",
       "      <td>130</td>\n",
       "      <td>204</td>\n",
       "      <td>0</td>\n",
       "      <td>0</td>\n",
       "      <td>172</td>\n",
       "      <td>0</td>\n",
       "      <td>1.4</td>\n",
       "      <td>2</td>\n",
       "      <td>0</td>\n",
       "      <td>2</td>\n",
       "      <td>1</td>\n",
       "      <td>Adult(&lt;=55)</td>\n",
       "      <td>Female</td>\n",
       "      <td>typical angina</td>\n",
       "      <td>typical angina</td>\n",
       "      <td>Yes</td>\n",
       "    </tr>\n",
       "    <tr>\n",
       "      <th>3</th>\n",
       "      <td>56</td>\n",
       "      <td>1</td>\n",
       "      <td>1</td>\n",
       "      <td>120</td>\n",
       "      <td>236</td>\n",
       "      <td>0</td>\n",
       "      <td>1</td>\n",
       "      <td>178</td>\n",
       "      <td>0</td>\n",
       "      <td>0.8</td>\n",
       "      <td>2</td>\n",
       "      <td>0</td>\n",
       "      <td>2</td>\n",
       "      <td>1</td>\n",
       "      <td>Old Adult(&lt;=65)</td>\n",
       "      <td>Male</td>\n",
       "      <td>typical angina</td>\n",
       "      <td>typical angina</td>\n",
       "      <td>Yes</td>\n",
       "    </tr>\n",
       "    <tr>\n",
       "      <th>4</th>\n",
       "      <td>57</td>\n",
       "      <td>0</td>\n",
       "      <td>0</td>\n",
       "      <td>120</td>\n",
       "      <td>354</td>\n",
       "      <td>0</td>\n",
       "      <td>1</td>\n",
       "      <td>163</td>\n",
       "      <td>1</td>\n",
       "      <td>0.6</td>\n",
       "      <td>2</td>\n",
       "      <td>0</td>\n",
       "      <td>2</td>\n",
       "      <td>1</td>\n",
       "      <td>Old Adult(&lt;=65)</td>\n",
       "      <td>Female</td>\n",
       "      <td>asyptomatic</td>\n",
       "      <td>asyptomatic</td>\n",
       "      <td>Yes</td>\n",
       "    </tr>\n",
       "  </tbody>\n",
       "</table>\n",
       "</div>"
      ],
      "text/plain": [
       "   age  sex  cp  trestbps  chol  fbs  restecg  thalach  exang  oldpeak  slope  \\\n",
       "0   63    1   3       145   233    1        0      150      0      2.3      0   \n",
       "1   37    1   2       130   250    0        1      187      0      3.5      0   \n",
       "2   41    0   1       130   204    0        0      172      0      1.4      2   \n",
       "3   56    1   1       120   236    0        1      178      0      0.8      2   \n",
       "4   57    0   0       120   354    0        1      163      1      0.6      2   \n",
       "\n",
       "   ca  thal  target      age_bracket  gender            cp_cat  \\\n",
       "0   0     1       1  Old Adult(<=65)    Male  non-anginal pain   \n",
       "1   0     2       1      Adult(<=55)    Male   atypical angina   \n",
       "2   0     2       1      Adult(<=55)  Female    typical angina   \n",
       "3   0     2       1  Old Adult(<=65)    Male    typical angina   \n",
       "4   0     2       1  Old Adult(<=65)  Female       asyptomatic   \n",
       "\n",
       "        cp_category label  \n",
       "0  non-anginal pain   Yes  \n",
       "1   atypical angina   Yes  \n",
       "2    typical angina   Yes  \n",
       "3    typical angina   Yes  \n",
       "4       asyptomatic   Yes  "
      ]
     },
     "execution_count": 64,
     "metadata": {},
     "output_type": "execute_result"
    }
   ],
   "source": [
    "df.head()"
   ]
  },
  {
   "cell_type": "code",
   "execution_count": null,
   "id": "110851f5-2f7d-4bb8-96b9-527c22de1809",
   "metadata": {},
   "outputs": [],
   "source": []
  },
  {
   "cell_type": "code",
   "execution_count": 65,
   "id": "9fe0360d-5db7-4075-84fe-ab7bb0ed7a8d",
   "metadata": {},
   "outputs": [],
   "source": [
    "# Create a copy of the dataset (exclude target/label alongside other columns that was created)\n",
    "\n",
    "df1 = df[['age', 'sex', 'cp', 'trestbps', 'chol', 'fbs', 'restecg', 'thalach',\n",
    "       'exang', 'oldpeak', 'slope', 'ca', 'thal']]\n",
    "label = df[[\"target\"]]"
   ]
  },
  {
   "cell_type": "code",
   "execution_count": 66,
   "id": "bed3765f-ebec-4261-9113-de3bcfaf95fa",
   "metadata": {},
   "outputs": [
    {
     "data": {
      "text/html": [
       "<div>\n",
       "<style scoped>\n",
       "    .dataframe tbody tr th:only-of-type {\n",
       "        vertical-align: middle;\n",
       "    }\n",
       "\n",
       "    .dataframe tbody tr th {\n",
       "        vertical-align: top;\n",
       "    }\n",
       "\n",
       "    .dataframe thead th {\n",
       "        text-align: right;\n",
       "    }\n",
       "</style>\n",
       "<table border=\"1\" class=\"dataframe\">\n",
       "  <thead>\n",
       "    <tr style=\"text-align: right;\">\n",
       "      <th></th>\n",
       "      <th>age</th>\n",
       "      <th>sex</th>\n",
       "      <th>cp</th>\n",
       "      <th>trestbps</th>\n",
       "      <th>chol</th>\n",
       "      <th>fbs</th>\n",
       "      <th>restecg</th>\n",
       "      <th>thalach</th>\n",
       "      <th>exang</th>\n",
       "      <th>oldpeak</th>\n",
       "      <th>slope</th>\n",
       "      <th>ca</th>\n",
       "      <th>thal</th>\n",
       "    </tr>\n",
       "  </thead>\n",
       "  <tbody>\n",
       "    <tr>\n",
       "      <th>0</th>\n",
       "      <td>63</td>\n",
       "      <td>1</td>\n",
       "      <td>3</td>\n",
       "      <td>145</td>\n",
       "      <td>233</td>\n",
       "      <td>1</td>\n",
       "      <td>0</td>\n",
       "      <td>150</td>\n",
       "      <td>0</td>\n",
       "      <td>2.3</td>\n",
       "      <td>0</td>\n",
       "      <td>0</td>\n",
       "      <td>1</td>\n",
       "    </tr>\n",
       "    <tr>\n",
       "      <th>1</th>\n",
       "      <td>37</td>\n",
       "      <td>1</td>\n",
       "      <td>2</td>\n",
       "      <td>130</td>\n",
       "      <td>250</td>\n",
       "      <td>0</td>\n",
       "      <td>1</td>\n",
       "      <td>187</td>\n",
       "      <td>0</td>\n",
       "      <td>3.5</td>\n",
       "      <td>0</td>\n",
       "      <td>0</td>\n",
       "      <td>2</td>\n",
       "    </tr>\n",
       "    <tr>\n",
       "      <th>2</th>\n",
       "      <td>41</td>\n",
       "      <td>0</td>\n",
       "      <td>1</td>\n",
       "      <td>130</td>\n",
       "      <td>204</td>\n",
       "      <td>0</td>\n",
       "      <td>0</td>\n",
       "      <td>172</td>\n",
       "      <td>0</td>\n",
       "      <td>1.4</td>\n",
       "      <td>2</td>\n",
       "      <td>0</td>\n",
       "      <td>2</td>\n",
       "    </tr>\n",
       "    <tr>\n",
       "      <th>3</th>\n",
       "      <td>56</td>\n",
       "      <td>1</td>\n",
       "      <td>1</td>\n",
       "      <td>120</td>\n",
       "      <td>236</td>\n",
       "      <td>0</td>\n",
       "      <td>1</td>\n",
       "      <td>178</td>\n",
       "      <td>0</td>\n",
       "      <td>0.8</td>\n",
       "      <td>2</td>\n",
       "      <td>0</td>\n",
       "      <td>2</td>\n",
       "    </tr>\n",
       "    <tr>\n",
       "      <th>4</th>\n",
       "      <td>57</td>\n",
       "      <td>0</td>\n",
       "      <td>0</td>\n",
       "      <td>120</td>\n",
       "      <td>354</td>\n",
       "      <td>0</td>\n",
       "      <td>1</td>\n",
       "      <td>163</td>\n",
       "      <td>1</td>\n",
       "      <td>0.6</td>\n",
       "      <td>2</td>\n",
       "      <td>0</td>\n",
       "      <td>2</td>\n",
       "    </tr>\n",
       "  </tbody>\n",
       "</table>\n",
       "</div>"
      ],
      "text/plain": [
       "   age  sex  cp  trestbps  chol  fbs  restecg  thalach  exang  oldpeak  slope  \\\n",
       "0   63    1   3       145   233    1        0      150      0      2.3      0   \n",
       "1   37    1   2       130   250    0        1      187      0      3.5      0   \n",
       "2   41    0   1       130   204    0        0      172      0      1.4      2   \n",
       "3   56    1   1       120   236    0        1      178      0      0.8      2   \n",
       "4   57    0   0       120   354    0        1      163      1      0.6      2   \n",
       "\n",
       "   ca  thal  \n",
       "0   0     1  \n",
       "1   0     2  \n",
       "2   0     2  \n",
       "3   0     2  \n",
       "4   0     2  "
      ]
     },
     "execution_count": 66,
     "metadata": {},
     "output_type": "execute_result"
    }
   ],
   "source": [
    "df1.head()"
   ]
  },
  {
   "cell_type": "code",
   "execution_count": 67,
   "id": "680a9e01-d3dc-4573-9218-0c4853096550",
   "metadata": {},
   "outputs": [
    {
     "data": {
      "text/html": [
       "<div>\n",
       "<style scoped>\n",
       "    .dataframe tbody tr th:only-of-type {\n",
       "        vertical-align: middle;\n",
       "    }\n",
       "\n",
       "    .dataframe tbody tr th {\n",
       "        vertical-align: top;\n",
       "    }\n",
       "\n",
       "    .dataframe thead th {\n",
       "        text-align: right;\n",
       "    }\n",
       "</style>\n",
       "<table border=\"1\" class=\"dataframe\">\n",
       "  <thead>\n",
       "    <tr style=\"text-align: right;\">\n",
       "      <th></th>\n",
       "      <th>target</th>\n",
       "    </tr>\n",
       "  </thead>\n",
       "  <tbody>\n",
       "    <tr>\n",
       "      <th>0</th>\n",
       "      <td>1</td>\n",
       "    </tr>\n",
       "    <tr>\n",
       "      <th>1</th>\n",
       "      <td>1</td>\n",
       "    </tr>\n",
       "    <tr>\n",
       "      <th>2</th>\n",
       "      <td>1</td>\n",
       "    </tr>\n",
       "    <tr>\n",
       "      <th>3</th>\n",
       "      <td>1</td>\n",
       "    </tr>\n",
       "    <tr>\n",
       "      <th>4</th>\n",
       "      <td>1</td>\n",
       "    </tr>\n",
       "  </tbody>\n",
       "</table>\n",
       "</div>"
      ],
      "text/plain": [
       "   target\n",
       "0       1\n",
       "1       1\n",
       "2       1\n",
       "3       1\n",
       "4       1"
      ]
     },
     "execution_count": 67,
     "metadata": {},
     "output_type": "execute_result"
    }
   ],
   "source": [
    "label.head()"
   ]
  },
  {
   "cell_type": "code",
   "execution_count": null,
   "id": "19863f58-6495-4f3f-8844-57a870d5ba59",
   "metadata": {},
   "outputs": [],
   "source": []
  },
  {
   "cell_type": "code",
   "execution_count": null,
   "id": "1149fbee-0b87-4acb-9297-534cd24250aa",
   "metadata": {},
   "outputs": [],
   "source": []
  },
  {
   "cell_type": "code",
   "execution_count": 75,
   "id": "fdc5e4e7-9d48-4291-91d1-51a238138890",
   "metadata": {},
   "outputs": [
    {
     "data": {
      "text/plain": [
       "age                  int64\n",
       "sex                  int64\n",
       "cp                   int64\n",
       "fbs                  int64\n",
       "restecg              int64\n",
       "exang                int64\n",
       "oldpeak            float64\n",
       "slope                int64\n",
       "ca                   int64\n",
       "Scaled_trestbps    float64\n",
       "Scaled_chol        float64\n",
       "Scaled_thal        float64\n",
       "Scaled_thalach     float64\n",
       "dtype: object"
      ]
     },
     "execution_count": 75,
     "metadata": {},
     "output_type": "execute_result"
    }
   ],
   "source": [
    "df1.dtypes"
   ]
  },
  {
   "cell_type": "code",
   "execution_count": null,
   "id": "843c4b1f-6d98-43d8-bbaa-29a56a438490",
   "metadata": {},
   "outputs": [],
   "source": []
  },
  {
   "cell_type": "code",
   "execution_count": null,
   "id": "e263020c-6cda-439d-8a95-b284e1a18f53",
   "metadata": {},
   "outputs": [],
   "source": []
  },
  {
   "cell_type": "code",
   "execution_count": null,
   "id": "39c56ffc-24c8-40f7-b933-764d85023aee",
   "metadata": {},
   "outputs": [],
   "source": [
    "# Dealing with outliers - trestbps , chol, thal, thalach\n",
    "# Normalize the data\n",
    "\n",
    "scaler = MinMaxScaler()\n",
    "\n",
    "df1['scaled_trestbps'] = scaler.fit_transform(df1['trestbps'].values.reshape(-1,1))\n",
    "df1[\"scaled_chol\"] = scaler.fit_transform(df1[[\"chol\"]].values.reshape(-1,1))\n",
    "df1[\"scaled_thal\"] = scaler.fit_transform(df1[[\"thal\"]].values.reshape(-1,1))\n",
    "df1[\"scaled_thalach\"] = scaler.fit_transform(df1[\"thalach\"].values.reshape(-1,1))\n",
    "\n",
    "# Drop the original columns\n",
    "df1.drop([\"trestbps\", \"chol\", \"thal\", \"thalach\"], axis=1, inplace=True)"
   ]
  },
  {
   "cell_type": "code",
   "execution_count": 84,
   "id": "defeb0f8-79dc-4ddf-a432-1fd044fc7a47",
   "metadata": {},
   "outputs": [
    {
     "data": {
      "text/html": [
       "<div>\n",
       "<style scoped>\n",
       "    .dataframe tbody tr th:only-of-type {\n",
       "        vertical-align: middle;\n",
       "    }\n",
       "\n",
       "    .dataframe tbody tr th {\n",
       "        vertical-align: top;\n",
       "    }\n",
       "\n",
       "    .dataframe thead th {\n",
       "        text-align: right;\n",
       "    }\n",
       "</style>\n",
       "<table border=\"1\" class=\"dataframe\">\n",
       "  <thead>\n",
       "    <tr style=\"text-align: right;\">\n",
       "      <th></th>\n",
       "      <th>age</th>\n",
       "      <th>sex</th>\n",
       "      <th>cp</th>\n",
       "      <th>fbs</th>\n",
       "      <th>restecg</th>\n",
       "      <th>exang</th>\n",
       "      <th>oldpeak</th>\n",
       "      <th>slope</th>\n",
       "      <th>ca</th>\n",
       "      <th>Scaled_trestbps</th>\n",
       "      <th>Scaled_chol</th>\n",
       "      <th>Scaled_thal</th>\n",
       "      <th>Scaled_thalach</th>\n",
       "    </tr>\n",
       "  </thead>\n",
       "  <tbody>\n",
       "    <tr>\n",
       "      <th>0</th>\n",
       "      <td>63</td>\n",
       "      <td>1</td>\n",
       "      <td>3</td>\n",
       "      <td>1</td>\n",
       "      <td>0</td>\n",
       "      <td>0</td>\n",
       "      <td>2.3</td>\n",
       "      <td>0</td>\n",
       "      <td>0</td>\n",
       "      <td>0.481132</td>\n",
       "      <td>0.244292</td>\n",
       "      <td>0.333333</td>\n",
       "      <td>0.603053</td>\n",
       "    </tr>\n",
       "    <tr>\n",
       "      <th>1</th>\n",
       "      <td>37</td>\n",
       "      <td>1</td>\n",
       "      <td>2</td>\n",
       "      <td>0</td>\n",
       "      <td>1</td>\n",
       "      <td>0</td>\n",
       "      <td>3.5</td>\n",
       "      <td>0</td>\n",
       "      <td>0</td>\n",
       "      <td>0.339623</td>\n",
       "      <td>0.283105</td>\n",
       "      <td>0.666667</td>\n",
       "      <td>0.885496</td>\n",
       "    </tr>\n",
       "    <tr>\n",
       "      <th>2</th>\n",
       "      <td>41</td>\n",
       "      <td>0</td>\n",
       "      <td>1</td>\n",
       "      <td>0</td>\n",
       "      <td>0</td>\n",
       "      <td>0</td>\n",
       "      <td>1.4</td>\n",
       "      <td>2</td>\n",
       "      <td>0</td>\n",
       "      <td>0.339623</td>\n",
       "      <td>0.178082</td>\n",
       "      <td>0.666667</td>\n",
       "      <td>0.770992</td>\n",
       "    </tr>\n",
       "    <tr>\n",
       "      <th>3</th>\n",
       "      <td>56</td>\n",
       "      <td>1</td>\n",
       "      <td>1</td>\n",
       "      <td>0</td>\n",
       "      <td>1</td>\n",
       "      <td>0</td>\n",
       "      <td>0.8</td>\n",
       "      <td>2</td>\n",
       "      <td>0</td>\n",
       "      <td>0.245283</td>\n",
       "      <td>0.251142</td>\n",
       "      <td>0.666667</td>\n",
       "      <td>0.816794</td>\n",
       "    </tr>\n",
       "    <tr>\n",
       "      <th>4</th>\n",
       "      <td>57</td>\n",
       "      <td>0</td>\n",
       "      <td>0</td>\n",
       "      <td>0</td>\n",
       "      <td>1</td>\n",
       "      <td>1</td>\n",
       "      <td>0.6</td>\n",
       "      <td>2</td>\n",
       "      <td>0</td>\n",
       "      <td>0.245283</td>\n",
       "      <td>0.520548</td>\n",
       "      <td>0.666667</td>\n",
       "      <td>0.702290</td>\n",
       "    </tr>\n",
       "  </tbody>\n",
       "</table>\n",
       "</div>"
      ],
      "text/plain": [
       "   age  sex  cp  fbs  restecg  exang  oldpeak  slope  ca  Scaled_trestbps  \\\n",
       "0   63    1   3    1        0      0      2.3      0   0         0.481132   \n",
       "1   37    1   2    0        1      0      3.5      0   0         0.339623   \n",
       "2   41    0   1    0        0      0      1.4      2   0         0.339623   \n",
       "3   56    1   1    0        1      0      0.8      2   0         0.245283   \n",
       "4   57    0   0    0        1      1      0.6      2   0         0.245283   \n",
       "\n",
       "   Scaled_chol  Scaled_thal  Scaled_thalach  \n",
       "0     0.244292     0.333333        0.603053  \n",
       "1     0.283105     0.666667        0.885496  \n",
       "2     0.178082     0.666667        0.770992  \n",
       "3     0.251142     0.666667        0.816794  \n",
       "4     0.520548     0.666667        0.702290  "
      ]
     },
     "execution_count": 84,
     "metadata": {},
     "output_type": "execute_result"
    }
   ],
   "source": [
    "df1.head()\n"
   ]
  },
  {
   "cell_type": "code",
   "execution_count": null,
   "id": "8d48f66c-2ebb-4543-9727-ae1290445c54",
   "metadata": {},
   "outputs": [],
   "source": []
  },
  {
   "cell_type": "markdown",
   "id": "bf43f52d-31f8-4f3c-b92a-4447ceccba81",
   "metadata": {},
   "source": [
    "## Machine Learning"
   ]
  },
  {
   "cell_type": "code",
   "execution_count": 89,
   "id": "ceb2a39d-9706-4cac-9f01-ede815d6e0db",
   "metadata": {},
   "outputs": [],
   "source": [
    "# Split the dataset into training and test sets \n",
    "# take it this way, X=Questions, y= Answers\n",
    "\n",
    "X_train, X_test,y_train, y_test = train_test_split(df1,label,test_size=0.2, random_state=42)"
   ]
  },
  {
   "cell_type": "code",
   "execution_count": null,
   "id": "3d32660c-e1a8-46ce-a286-e1bfaf30fde3",
   "metadata": {},
   "outputs": [],
   "source": []
  },
  {
   "cell_type": "code",
   "execution_count": 91,
   "id": "13279a7e-34a6-41ef-9b0a-c198eee07c88",
   "metadata": {},
   "outputs": [
    {
     "name": "stdout",
     "output_type": "stream",
     "text": [
      "Logistic Regression\n",
      "Accuracy: 0.8360655737704918\n",
      "Precision: 0.8666666666666667\n",
      "Recall: 0.8125\n",
      "F1-score: 0.8387096774193549\n",
      "AUC-ROC: 0.8372844827586207\n"
     ]
    }
   ],
   "source": [
    "# Model Building\n",
    "\n",
    "# Logistic Regression\n",
    "\n",
    "logreg = LogisticRegression()\n",
    "\n",
    "logreg.fit(X_train, y_train)\n",
    "\n",
    "ly_pred = logreg.predict(X_test)\n",
    "\n",
    "print(\"Logistic Regression\")\n",
    "print(\"Accuracy:\", accuracy_score(y_test,ly_pred))\n",
    "print(\"Precision:\", precision_score(y_test,ly_pred))\n",
    "print(\"Recall:\", recall_score(y_test,ly_pred))\n",
    "print(\"F1-score:\", f1_score(y_test,ly_pred))\n",
    "print(\"AUC-ROC:\", roc_auc_score(y_test,ly_pred))"
   ]
  },
  {
   "cell_type": "code",
   "execution_count": null,
   "id": "f791e5ba-ac52-47cb-b011-ccce694e5907",
   "metadata": {},
   "outputs": [],
   "source": []
  },
  {
   "cell_type": "code",
   "execution_count": 93,
   "id": "b60d335e-3eb1-4a7e-80fb-456bab50e28a",
   "metadata": {},
   "outputs": [
    {
     "data": {
      "image/png": "[encoded data removed]",
      "text/plain": [
       "<Figure size 640x480 with 2 Axes>"
      ]
     },
     "metadata": {},
     "output_type": "display_data"
    }
   ],
   "source": [
    "# Create a confusion matrix\n",
    "lcm = confusion_matrix(y_test,ly_pred)\n",
    "\n",
    "# Visualise the confusion matrix\n",
    "sns.heatmap(lcm, annot=True, cmap=\"Blues\", fmt=\"g\")\n",
    "plt.xlabel(\"Predicated\")\n",
    "plt.ylabel(\"Actual\")\n",
    "plt.title(\"Confusion Matrix\")\n",
    "\n",
    "plt.show()"
   ]
  },
  {
   "cell_type": "code",
   "execution_count": null,
   "id": "c598bb8e-65fb-4f56-869a-b1ecc8db6d0b",
   "metadata": {},
   "outputs": [],
   "source": []
  },
  {
   "cell_type": "code",
   "execution_count": 96,
   "id": "491370e1-bec2-458d-8990-f7a5f2257c54",
   "metadata": {},
   "outputs": [
    {
     "name": "stdout",
     "output_type": "stream",
     "text": [
      "Logistic Regression\n",
      "Accuracy: 0.8524590163934426\n",
      "Precision: 0.8484848484848485\n",
      "Recall: 0.875\n",
      "F1-score: 0.8387096774193549\n",
      "AUC-ROC: 0.8512931034482758\n"
     ]
    }
   ],
   "source": [
    "# Model Building\n",
    "# Random Forest Classifier\n",
    "\n",
    "rfc = RandomForestClassifier()\n",
    "rfc.fit(X_train, y_train)\n",
    "rfy_pred = rfc.predict(X_test)\n",
    "\n",
    "print(\"Logistic Regression\")\n",
    "print(\"Accuracy:\", accuracy_score(y_test,rfy_pred))\n",
    "print(\"Precision:\", precision_score(y_test,rfy_pred))\n",
    "print(\"Recall:\", recall_score(y_test,rfy_pred))\n",
    "print(\"F1-score:\", f1_score(y_test,ly_pred))\n",
    "print(\"AUC-ROC:\", roc_auc_score(y_test,rfy_pred))"
   ]
  },
  {
   "cell_type": "code",
   "execution_count": null,
   "id": "9bfd365e-6c9d-43a9-aaea-d033db8ae507",
   "metadata": {},
   "outputs": [],
   "source": []
  },
  {
   "cell_type": "code",
   "execution_count": 97,
   "id": "d86d6c08-f589-4790-a635-8b2574e424b8",
   "metadata": {},
   "outputs": [
    {
     "data": {
      "image/png": "[encoded data removed]",
      "text/plain": [
       "<Figure size 640x480 with 2 Axes>"
      ]
     },
     "metadata": {},
     "output_type": "display_data"
    }
   ],
   "source": [
    "# Create a confusion matrix for Random Forest\n",
    "rcm = confusion_matrix(y_test,rfy_pred)\n",
    "\n",
    "# Visualise the confusion matrix\n",
    "sns.heatmap(rcm, annot=True, cmap=\"Blues\", fmt=\"g\")\n",
    "plt.xlabel(\"Predicated\")\n",
    "plt.ylabel(\"Actual\")\n",
    "plt.title(\"Confusion Matrix\")\n",
    "\n",
    "plt.show()"
   ]
  },
  {
   "cell_type": "code",
   "execution_count": null,
   "id": "45af8873-98b2-4092-809b-933dbaa54ff4",
   "metadata": {},
   "outputs": [],
   "source": []
  },
  {
   "cell_type": "code",
   "execution_count": 103,
   "id": "240e7868-eb77-4e64-aeb0-3b18463c6537",
   "metadata": {},
   "outputs": [],
   "source": [
    "# To deploy 8 machine learning Algorithms to the dataset\n",
    "\n",
    "classifiers = [[XGBClassifier(), \"XGB Classifier\"],\n",
    "              [RandomForestClassifier(), \"Random Forest\"],\n",
    "              [KNeighborsClassifier(), \"K-Nearest Neighbors\"],\n",
    "              [SGDClassifier(), \"SGD Classifer\"],\n",
    "              [SVC(),\"SVC\"],\n",
    "              [GaussianNB(), \"Naive Bayes\"],\n",
    "              [DecisionTreeClassifier (random_state = 42), \"Decision tree\"],\n",
    "              [LogisticRegression(), \"Logistic Regression\"]]"
   ]
  },
  {
   "cell_type": "code",
   "execution_count": 104,
   "id": "fcc1819f-c6a6-4589-a6e6-fb34f6f606af",
   "metadata": {},
   "outputs": [
    {
     "data": {
      "text/plain": [
       "[[XGBClassifier(base_score=None, booster=None, callbacks=None,\n",
       "                colsample_bylevel=None, colsample_bynode=None,\n",
       "                colsample_bytree=None, device=None, early_stopping_rounds=None,\n",
       "                enable_categorical=False, eval_metric=None, feature_types=None,\n",
       "                gamma=None, grow_policy=None, importance_type=None,\n",
       "                interaction_constraints=None, learning_rate=None, max_bin=None,\n",
       "                max_cat_threshold=None, max_cat_to_onehot=None,\n",
       "                max_delta_step=None, max_depth=None, max_leaves=None,\n",
       "                min_child_weight=None, missing=nan, monotone_constraints=None,\n",
       "                multi_strategy=None, n_estimators=None, n_jobs=None,\n",
       "                num_parallel_tree=None, random_state=None, ...),\n",
       "  'XGB Classifier'],\n",
       " [RandomForestClassifier(), 'Random Forest'],\n",
       " [KNeighborsClassifier(), 'K-Nearest Neighbors'],\n",
       " [SGDClassifier(), 'SGD Classifer'],\n",
       " [SVC(), 'SVC'],\n",
       " [GaussianNB(), 'Naive Bayes'],\n",
       " [DecisionTreeClassifier(random_state=42), 'Decision tree'],\n",
       " [LogisticRegression(), 'Logistic Regression']]"
      ]
     },
     "execution_count": 104,
     "metadata": {},
     "output_type": "execute_result"
    }
   ],
   "source": [
    "classifiers"
   ]
  },
  {
   "cell_type": "code",
   "execution_count": null,
   "id": "58feba27-c69d-4f01-8bbe-9ab8c2649637",
   "metadata": {},
   "outputs": [],
   "source": []
  },
  {
   "cell_type": "code",
   "execution_count": 105,
   "id": "962f4727-45b3-47e2-bb67-e78af3be0515",
   "metadata": {},
   "outputs": [
    {
     "name": "stdout",
     "output_type": "stream",
     "text": [
      "\n",
      "\n",
      "\n",
      "\n",
      "\n",
      "\n",
      "\n"
     ]
    }
   ],
   "source": [
    "acc_list = {}\n",
    "precision_list = {}\n",
    "recall_list = {}\n",
    "roc_list = {}\n",
    "\n",
    "for classifier in classifiers:\n",
    "    model = classifier[0]\n",
    "    model.fit(X_train,y_train)\n",
    "    model_name = classifier[1]\n",
    "\n",
    "    pred = model.predict(X_test)\n",
    "\n",
    "    a_score = accuracy_score(y_test,pred)\n",
    "    p_score = precision_score(y_test,pred)\n",
    "    r_score = recall_score(y_test,pred)\n",
    "    roc_score = roc_auc_score(y_test,pred)\n",
    "\n",
    "    acc_list[model_name] = ([str(round(a_score*100,2)) + \"%\"])\n",
    "    precision_list[model_name] = ([str(round(p_score*100,2)) + \"%\"])\n",
    "    recall_list[model_name] = ([str(round(r_score*100,2)) + \"%\"])\n",
    "    roc_list[model_name] = ([str(round(roc_score*100,2)) + \"%\"])\n",
    "\n",
    "    if model_name != classifiers[-1][1]:\n",
    "        print (\"\")"
   ]
  },
  {
   "cell_type": "code",
   "execution_count": 106,
   "id": "d4da2b82-eb4e-4cd8-8ee7-8a344e4df6b3",
   "metadata": {},
   "outputs": [
    {
     "data": {
      "text/plain": [
       "{'XGB Classifier': ['81.97%'],\n",
       " 'Random Forest': ['86.89%'],\n",
       " 'K-Nearest Neighbors': ['75.41%'],\n",
       " 'SGD Classifer': ['88.52%'],\n",
       " 'SVC': ['65.57%'],\n",
       " 'Naive Bayes': ['86.89%'],\n",
       " 'Decision tree': ['85.25%'],\n",
       " 'Logistic Regression': ['83.61%']}"
      ]
     },
     "execution_count": 106,
     "metadata": {},
     "output_type": "execute_result"
    }
   ],
   "source": [
    "acc_list"
   ]
  },
  {
   "cell_type": "code",
   "execution_count": 110,
   "id": "6dacb182-eb56-4fb2-b2a3-802f6450c622",
   "metadata": {},
   "outputs": [
    {
     "name": "stdout",
     "output_type": "stream",
     "text": [
      "Acurracy Score\n"
     ]
    },
    {
     "data": {
      "text/html": [
       "<div>\n",
       "<style scoped>\n",
       "    .dataframe tbody tr th:only-of-type {\n",
       "        vertical-align: middle;\n",
       "    }\n",
       "\n",
       "    .dataframe tbody tr th {\n",
       "        vertical-align: top;\n",
       "    }\n",
       "\n",
       "    .dataframe thead th {\n",
       "        text-align: right;\n",
       "    }\n",
       "</style>\n",
       "<table border=\"1\" class=\"dataframe\">\n",
       "  <thead>\n",
       "    <tr style=\"text-align: right;\">\n",
       "      <th></th>\n",
       "      <th>XGB Classifier</th>\n",
       "      <th>Random Forest</th>\n",
       "      <th>K-Nearest Neighbors</th>\n",
       "      <th>SGD Classifer</th>\n",
       "      <th>SVC</th>\n",
       "      <th>Naive Bayes</th>\n",
       "      <th>Decision tree</th>\n",
       "      <th>Logistic Regression</th>\n",
       "    </tr>\n",
       "  </thead>\n",
       "  <tbody>\n",
       "    <tr>\n",
       "      <th>0</th>\n",
       "      <td>81.97%</td>\n",
       "      <td>86.89%</td>\n",
       "      <td>75.41%</td>\n",
       "      <td>88.52%</td>\n",
       "      <td>65.57%</td>\n",
       "      <td>86.89%</td>\n",
       "      <td>85.25%</td>\n",
       "      <td>83.61%</td>\n",
       "    </tr>\n",
       "  </tbody>\n",
       "</table>\n",
       "</div>"
      ],
      "text/plain": [
       "  XGB Classifier Random Forest K-Nearest Neighbors SGD Classifer     SVC  \\\n",
       "0         81.97%        86.89%              75.41%        88.52%  65.57%   \n",
       "\n",
       "  Naive Bayes Decision tree Logistic Regression  \n",
       "0      86.89%        85.25%              83.61%  "
      ]
     },
     "execution_count": 110,
     "metadata": {},
     "output_type": "execute_result"
    }
   ],
   "source": [
    "# To put the above list in a table/Dataframe\n",
    "\n",
    "print(\"Acurracy Score\")\n",
    "s1 = pd.DataFrame(acc_list)\n",
    "s1.head()"
   ]
  },
  {
   "cell_type": "code",
   "execution_count": null,
   "id": "2032531e-cc38-44b5-b4e1-a3d47fcc0920",
   "metadata": {},
   "outputs": [],
   "source": []
  },
  {
   "cell_type": "code",
   "execution_count": 107,
   "id": "d2426490-4da8-4fec-8177-7106f5f5c5be",
   "metadata": {},
   "outputs": [
    {
     "data": {
      "text/plain": [
       "{'XGB Classifier': ['86.21%'],\n",
       " 'Random Forest': ['85.29%'],\n",
       " 'K-Nearest Neighbors': ['79.31%'],\n",
       " 'SGD Classifer': ['87.88%'],\n",
       " 'SVC': ['65.71%'],\n",
       " 'Naive Bayes': ['90.0%'],\n",
       " 'Decision tree': ['92.59%'],\n",
       " 'Logistic Regression': ['86.67%']}"
      ]
     },
     "execution_count": 107,
     "metadata": {},
     "output_type": "execute_result"
    }
   ],
   "source": [
    "precision_list"
   ]
  },
  {
   "cell_type": "code",
   "execution_count": 111,
   "id": "5f0b8230-1a7b-4a9d-9aa3-180c234ef3a6",
   "metadata": {},
   "outputs": [
    {
     "name": "stdout",
     "output_type": "stream",
     "text": [
      "Precision Score\n"
     ]
    },
    {
     "data": {
      "text/html": [
       "<div>\n",
       "<style scoped>\n",
       "    .dataframe tbody tr th:only-of-type {\n",
       "        vertical-align: middle;\n",
       "    }\n",
       "\n",
       "    .dataframe tbody tr th {\n",
       "        vertical-align: top;\n",
       "    }\n",
       "\n",
       "    .dataframe thead th {\n",
       "        text-align: right;\n",
       "    }\n",
       "</style>\n",
       "<table border=\"1\" class=\"dataframe\">\n",
       "  <thead>\n",
       "    <tr style=\"text-align: right;\">\n",
       "      <th></th>\n",
       "      <th>XGB Classifier</th>\n",
       "      <th>Random Forest</th>\n",
       "      <th>K-Nearest Neighbors</th>\n",
       "      <th>SGD Classifer</th>\n",
       "      <th>SVC</th>\n",
       "      <th>Naive Bayes</th>\n",
       "      <th>Decision tree</th>\n",
       "      <th>Logistic Regression</th>\n",
       "    </tr>\n",
       "  </thead>\n",
       "  <tbody>\n",
       "    <tr>\n",
       "      <th>0</th>\n",
       "      <td>86.21%</td>\n",
       "      <td>85.29%</td>\n",
       "      <td>79.31%</td>\n",
       "      <td>87.88%</td>\n",
       "      <td>65.71%</td>\n",
       "      <td>90.0%</td>\n",
       "      <td>92.59%</td>\n",
       "      <td>86.67%</td>\n",
       "    </tr>\n",
       "  </tbody>\n",
       "</table>\n",
       "</div>"
      ],
      "text/plain": [
       "  XGB Classifier Random Forest K-Nearest Neighbors SGD Classifer     SVC  \\\n",
       "0         86.21%        85.29%              79.31%        87.88%  65.71%   \n",
       "\n",
       "  Naive Bayes Decision tree Logistic Regression  \n",
       "0       90.0%        92.59%              86.67%  "
      ]
     },
     "execution_count": 111,
     "metadata": {},
     "output_type": "execute_result"
    }
   ],
   "source": [
    "# To put the above list in a table/Dataframe\n",
    "\n",
    "print(\"Precision Score\")\n",
    "s2 = pd.DataFrame(precision_list)\n",
    "s2.head()"
   ]
  },
  {
   "cell_type": "code",
   "execution_count": 108,
   "id": "959348bb-d919-461a-9a77-db41d1ec3abf",
   "metadata": {},
   "outputs": [
    {
     "data": {
      "text/plain": [
       "{'XGB Classifier': ['78.12%'],\n",
       " 'Random Forest': ['90.62%'],\n",
       " 'K-Nearest Neighbors': ['71.88%'],\n",
       " 'SGD Classifer': ['90.62%'],\n",
       " 'SVC': ['71.88%'],\n",
       " 'Naive Bayes': ['84.38%'],\n",
       " 'Decision tree': ['78.12%'],\n",
       " 'Logistic Regression': ['81.25%']}"
      ]
     },
     "execution_count": 108,
     "metadata": {},
     "output_type": "execute_result"
    }
   ],
   "source": [
    "recall_list"
   ]
  },
  {
   "cell_type": "code",
   "execution_count": 112,
   "id": "8d6fd9a8-170d-405b-a83f-eaf0cad84584",
   "metadata": {},
   "outputs": [
    {
     "name": "stdout",
     "output_type": "stream",
     "text": [
      "Recall Score\n"
     ]
    },
    {
     "data": {
      "text/html": [
       "<div>\n",
       "<style scoped>\n",
       "    .dataframe tbody tr th:only-of-type {\n",
       "        vertical-align: middle;\n",
       "    }\n",
       "\n",
       "    .dataframe tbody tr th {\n",
       "        vertical-align: top;\n",
       "    }\n",
       "\n",
       "    .dataframe thead th {\n",
       "        text-align: right;\n",
       "    }\n",
       "</style>\n",
       "<table border=\"1\" class=\"dataframe\">\n",
       "  <thead>\n",
       "    <tr style=\"text-align: right;\">\n",
       "      <th></th>\n",
       "      <th>XGB Classifier</th>\n",
       "      <th>Random Forest</th>\n",
       "      <th>K-Nearest Neighbors</th>\n",
       "      <th>SGD Classifer</th>\n",
       "      <th>SVC</th>\n",
       "      <th>Naive Bayes</th>\n",
       "      <th>Decision tree</th>\n",
       "      <th>Logistic Regression</th>\n",
       "    </tr>\n",
       "  </thead>\n",
       "  <tbody>\n",
       "    <tr>\n",
       "      <th>0</th>\n",
       "      <td>78.12%</td>\n",
       "      <td>90.62%</td>\n",
       "      <td>71.88%</td>\n",
       "      <td>90.62%</td>\n",
       "      <td>71.88%</td>\n",
       "      <td>84.38%</td>\n",
       "      <td>78.12%</td>\n",
       "      <td>81.25%</td>\n",
       "    </tr>\n",
       "  </tbody>\n",
       "</table>\n",
       "</div>"
      ],
      "text/plain": [
       "  XGB Classifier Random Forest K-Nearest Neighbors SGD Classifer     SVC  \\\n",
       "0         78.12%        90.62%              71.88%        90.62%  71.88%   \n",
       "\n",
       "  Naive Bayes Decision tree Logistic Regression  \n",
       "0      84.38%        78.12%              81.25%  "
      ]
     },
     "execution_count": 112,
     "metadata": {},
     "output_type": "execute_result"
    }
   ],
   "source": [
    "# To put the above list in a table/Dataframe\n",
    "\n",
    "print(\"Recall Score\")\n",
    "s3 = pd.DataFrame(recall_list)\n",
    "s3.head()"
   ]
  },
  {
   "cell_type": "code",
   "execution_count": 109,
   "id": "f5ee0a86-1e57-48c3-97bf-16661c4708ec",
   "metadata": {},
   "outputs": [
    {
     "data": {
      "text/plain": [
       "{'XGB Classifier': ['82.17%'],\n",
       " 'Random Forest': ['86.69%'],\n",
       " 'K-Nearest Neighbors': ['75.59%'],\n",
       " 'SGD Classifer': ['88.42%'],\n",
       " 'SVC': ['65.25%'],\n",
       " 'Naive Bayes': ['87.02%'],\n",
       " 'Decision tree': ['85.61%'],\n",
       " 'Logistic Regression': ['83.73%']}"
      ]
     },
     "execution_count": 109,
     "metadata": {},
     "output_type": "execute_result"
    }
   ],
   "source": [
    "roc_list"
   ]
  },
  {
   "cell_type": "code",
   "execution_count": 113,
   "id": "48b53f07-c2aa-412a-8236-1384fae8f7ef",
   "metadata": {},
   "outputs": [
    {
     "name": "stdout",
     "output_type": "stream",
     "text": [
      "Roc Score\n"
     ]
    },
    {
     "data": {
      "text/html": [
       "<div>\n",
       "<style scoped>\n",
       "    .dataframe tbody tr th:only-of-type {\n",
       "        vertical-align: middle;\n",
       "    }\n",
       "\n",
       "    .dataframe tbody tr th {\n",
       "        vertical-align: top;\n",
       "    }\n",
       "\n",
       "    .dataframe thead th {\n",
       "        text-align: right;\n",
       "    }\n",
       "</style>\n",
       "<table border=\"1\" class=\"dataframe\">\n",
       "  <thead>\n",
       "    <tr style=\"text-align: right;\">\n",
       "      <th></th>\n",
       "      <th>XGB Classifier</th>\n",
       "      <th>Random Forest</th>\n",
       "      <th>K-Nearest Neighbors</th>\n",
       "      <th>SGD Classifer</th>\n",
       "      <th>SVC</th>\n",
       "      <th>Naive Bayes</th>\n",
       "      <th>Decision tree</th>\n",
       "      <th>Logistic Regression</th>\n",
       "    </tr>\n",
       "  </thead>\n",
       "  <tbody>\n",
       "    <tr>\n",
       "      <th>0</th>\n",
       "      <td>82.17%</td>\n",
       "      <td>86.69%</td>\n",
       "      <td>75.59%</td>\n",
       "      <td>88.42%</td>\n",
       "      <td>65.25%</td>\n",
       "      <td>87.02%</td>\n",
       "      <td>85.61%</td>\n",
       "      <td>83.73%</td>\n",
       "    </tr>\n",
       "  </tbody>\n",
       "</table>\n",
       "</div>"
      ],
      "text/plain": [
       "  XGB Classifier Random Forest K-Nearest Neighbors SGD Classifer     SVC  \\\n",
       "0         82.17%        86.69%              75.59%        88.42%  65.25%   \n",
       "\n",
       "  Naive Bayes Decision tree Logistic Regression  \n",
       "0      87.02%        85.61%              83.73%  "
      ]
     },
     "execution_count": 113,
     "metadata": {},
     "output_type": "execute_result"
    }
   ],
   "source": [
    "# To put the above list in a table/Dataframe\n",
    "\n",
    "print(\"Roc Score\")\n",
    "s4 = pd.DataFrame(roc_list)\n",
    "s4.head()"
   ]
  },
  {
   "cell_type": "code",
   "execution_count": null,
   "id": "53ef762a-2d76-4300-bcdf-33e2fb3ef5a7",
   "metadata": {},
   "outputs": [],
   "source": []
  },
  {
   "cell_type": "code",
   "execution_count": null,
   "id": "db30d177-09c7-4a14-9593-8166f2ca15f9",
   "metadata": {},
   "outputs": [],
   "source": [
    "# Conclusion, \n",
    "# In this project, we successfully developed and implemented a machine learning model to predict the possibility \n",
    "# of a patient with different health condition having heart disease.\n",
    "#  By leveraging a diverse dataset, we applied various algorithms, including \"logistic regression, decision trees, and random forests, \n",
    "# KNeighbors, SGD, GaussianNB\"], and evaluated their performance using metrics such as accuracy, precision, recall, and F1-score.  "
   ]
  },
  {
   "cell_type": "code",
   "execution_count": null,
   "id": "4fe72de3-f55c-49c9-9329-93f0ab958437",
   "metadata": {},
   "outputs": [],
   "source": []
  }
 ],
 "metadata": {
  "kernelspec": {
   "display_name": "Python 3 (ipykernel)",
   "language": "python",
   "name": "python3"
  },
  "language_info": {
   "codemirror_mode": {
    "name": "ipython",
    "version": 3
   },
   "file_extension": ".py",
   "mimetype": "text/x-python",
   "name": "python",
   "nbconvert_exporter": "python",
   "pygments_lexer": "ipython3",
   "version": "3.11.7"
  }
 },
 "nbformat": 4,
 "nbformat_minor": 5
}
